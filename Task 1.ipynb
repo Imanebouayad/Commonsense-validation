{
  "nbformat": 4,
  "nbformat_minor": 0,
  "metadata": {
    "colab": {
      "name": "comsense val with RobertaClassifier",
      "provenance": [],
      "collapsed_sections": []
    },
    "kernelspec": {
      "display_name": "Python 3",
      "name": "python3"
    },
    "widgets": {
      "application/vnd.jupyter.widget-state+json": {
        "ba6c828386c14ad6a9242f6d88f91a3a": {
          "model_module": "@jupyter-widgets/controls",
          "model_name": "HBoxModel",
          "state": {
            "_view_name": "HBoxView",
            "_dom_classes": [],
            "_model_name": "HBoxModel",
            "_view_module": "@jupyter-widgets/controls",
            "_model_module_version": "1.5.0",
            "_view_count": null,
            "_view_module_version": "1.5.0",
            "box_style": "",
            "layout": "IPY_MODEL_660d6756a3064e4082626b9c5aa67145",
            "_model_module": "@jupyter-widgets/controls",
            "children": [
              "IPY_MODEL_5c5283524d1e4fe994037ea16a4afc2c",
              "IPY_MODEL_9783f1b8f7134496a8eb0e1998f07795"
            ]
          }
        },
        "660d6756a3064e4082626b9c5aa67145": {
          "model_module": "@jupyter-widgets/base",
          "model_name": "LayoutModel",
          "state": {
            "_view_name": "LayoutView",
            "grid_template_rows": null,
            "right": null,
            "justify_content": null,
            "_view_module": "@jupyter-widgets/base",
            "overflow": null,
            "_model_module_version": "1.2.0",
            "_view_count": null,
            "flex_flow": null,
            "width": null,
            "min_width": null,
            "border": null,
            "align_items": null,
            "bottom": null,
            "_model_module": "@jupyter-widgets/base",
            "top": null,
            "grid_column": null,
            "overflow_y": null,
            "overflow_x": null,
            "grid_auto_flow": null,
            "grid_area": null,
            "grid_template_columns": null,
            "flex": null,
            "_model_name": "LayoutModel",
            "justify_items": null,
            "grid_row": null,
            "max_height": null,
            "align_content": null,
            "visibility": null,
            "align_self": null,
            "height": null,
            "min_height": null,
            "padding": null,
            "grid_auto_rows": null,
            "grid_gap": null,
            "max_width": null,
            "order": null,
            "_view_module_version": "1.2.0",
            "grid_template_areas": null,
            "object_position": null,
            "object_fit": null,
            "grid_auto_columns": null,
            "margin": null,
            "display": null,
            "left": null
          }
        },
        "5c5283524d1e4fe994037ea16a4afc2c": {
          "model_module": "@jupyter-widgets/controls",
          "model_name": "FloatProgressModel",
          "state": {
            "_view_name": "ProgressView",
            "style": "IPY_MODEL_182f75b02db641b8b1a3e5492f2adeba",
            "_dom_classes": [],
            "description": "Downloading: 100%",
            "_model_name": "FloatProgressModel",
            "bar_style": "success",
            "max": 898823,
            "_view_module": "@jupyter-widgets/controls",
            "_model_module_version": "1.5.0",
            "value": 898823,
            "_view_count": null,
            "_view_module_version": "1.5.0",
            "orientation": "horizontal",
            "min": 0,
            "description_tooltip": null,
            "_model_module": "@jupyter-widgets/controls",
            "layout": "IPY_MODEL_df313256c7784cbea1fa90517d6f3d8c"
          }
        },
        "9783f1b8f7134496a8eb0e1998f07795": {
          "model_module": "@jupyter-widgets/controls",
          "model_name": "HTMLModel",
          "state": {
            "_view_name": "HTMLView",
            "style": "IPY_MODEL_f5636bb6a65b4b0fa20bf6a67a069c9e",
            "_dom_classes": [],
            "description": "",
            "_model_name": "HTMLModel",
            "placeholder": "​",
            "_view_module": "@jupyter-widgets/controls",
            "_model_module_version": "1.5.0",
            "value": " 899k/899k [00:01&lt;00:00, 756kB/s]",
            "_view_count": null,
            "_view_module_version": "1.5.0",
            "description_tooltip": null,
            "_model_module": "@jupyter-widgets/controls",
            "layout": "IPY_MODEL_0f2b2bf7a1b548ae925a14e3e3832203"
          }
        },
        "182f75b02db641b8b1a3e5492f2adeba": {
          "model_module": "@jupyter-widgets/controls",
          "model_name": "ProgressStyleModel",
          "state": {
            "_view_name": "StyleView",
            "_model_name": "ProgressStyleModel",
            "description_width": "initial",
            "_view_module": "@jupyter-widgets/base",
            "_model_module_version": "1.5.0",
            "_view_count": null,
            "_view_module_version": "1.2.0",
            "bar_color": null,
            "_model_module": "@jupyter-widgets/controls"
          }
        },
        "df313256c7784cbea1fa90517d6f3d8c": {
          "model_module": "@jupyter-widgets/base",
          "model_name": "LayoutModel",
          "state": {
            "_view_name": "LayoutView",
            "grid_template_rows": null,
            "right": null,
            "justify_content": null,
            "_view_module": "@jupyter-widgets/base",
            "overflow": null,
            "_model_module_version": "1.2.0",
            "_view_count": null,
            "flex_flow": null,
            "width": null,
            "min_width": null,
            "border": null,
            "align_items": null,
            "bottom": null,
            "_model_module": "@jupyter-widgets/base",
            "top": null,
            "grid_column": null,
            "overflow_y": null,
            "overflow_x": null,
            "grid_auto_flow": null,
            "grid_area": null,
            "grid_template_columns": null,
            "flex": null,
            "_model_name": "LayoutModel",
            "justify_items": null,
            "grid_row": null,
            "max_height": null,
            "align_content": null,
            "visibility": null,
            "align_self": null,
            "height": null,
            "min_height": null,
            "padding": null,
            "grid_auto_rows": null,
            "grid_gap": null,
            "max_width": null,
            "order": null,
            "_view_module_version": "1.2.0",
            "grid_template_areas": null,
            "object_position": null,
            "object_fit": null,
            "grid_auto_columns": null,
            "margin": null,
            "display": null,
            "left": null
          }
        },
        "f5636bb6a65b4b0fa20bf6a67a069c9e": {
          "model_module": "@jupyter-widgets/controls",
          "model_name": "DescriptionStyleModel",
          "state": {
            "_view_name": "StyleView",
            "_model_name": "DescriptionStyleModel",
            "description_width": "",
            "_view_module": "@jupyter-widgets/base",
            "_model_module_version": "1.5.0",
            "_view_count": null,
            "_view_module_version": "1.2.0",
            "_model_module": "@jupyter-widgets/controls"
          }
        },
        "0f2b2bf7a1b548ae925a14e3e3832203": {
          "model_module": "@jupyter-widgets/base",
          "model_name": "LayoutModel",
          "state": {
            "_view_name": "LayoutView",
            "grid_template_rows": null,
            "right": null,
            "justify_content": null,
            "_view_module": "@jupyter-widgets/base",
            "overflow": null,
            "_model_module_version": "1.2.0",
            "_view_count": null,
            "flex_flow": null,
            "width": null,
            "min_width": null,
            "border": null,
            "align_items": null,
            "bottom": null,
            "_model_module": "@jupyter-widgets/base",
            "top": null,
            "grid_column": null,
            "overflow_y": null,
            "overflow_x": null,
            "grid_auto_flow": null,
            "grid_area": null,
            "grid_template_columns": null,
            "flex": null,
            "_model_name": "LayoutModel",
            "justify_items": null,
            "grid_row": null,
            "max_height": null,
            "align_content": null,
            "visibility": null,
            "align_self": null,
            "height": null,
            "min_height": null,
            "padding": null,
            "grid_auto_rows": null,
            "grid_gap": null,
            "max_width": null,
            "order": null,
            "_view_module_version": "1.2.0",
            "grid_template_areas": null,
            "object_position": null,
            "object_fit": null,
            "grid_auto_columns": null,
            "margin": null,
            "display": null,
            "left": null
          }
        },
        "17a054104fb1430a9811203bb32e2e58": {
          "model_module": "@jupyter-widgets/controls",
          "model_name": "HBoxModel",
          "state": {
            "_view_name": "HBoxView",
            "_dom_classes": [],
            "_model_name": "HBoxModel",
            "_view_module": "@jupyter-widgets/controls",
            "_model_module_version": "1.5.0",
            "_view_count": null,
            "_view_module_version": "1.5.0",
            "box_style": "",
            "layout": "IPY_MODEL_722f654acd1c4b5899c553c7646ebdd5",
            "_model_module": "@jupyter-widgets/controls",
            "children": [
              "IPY_MODEL_3c1b047e40484af984b3299cad6382c1",
              "IPY_MODEL_a963a098d9ef46a3b6f11ba3663e7bf7"
            ]
          }
        },
        "722f654acd1c4b5899c553c7646ebdd5": {
          "model_module": "@jupyter-widgets/base",
          "model_name": "LayoutModel",
          "state": {
            "_view_name": "LayoutView",
            "grid_template_rows": null,
            "right": null,
            "justify_content": null,
            "_view_module": "@jupyter-widgets/base",
            "overflow": null,
            "_model_module_version": "1.2.0",
            "_view_count": null,
            "flex_flow": null,
            "width": null,
            "min_width": null,
            "border": null,
            "align_items": null,
            "bottom": null,
            "_model_module": "@jupyter-widgets/base",
            "top": null,
            "grid_column": null,
            "overflow_y": null,
            "overflow_x": null,
            "grid_auto_flow": null,
            "grid_area": null,
            "grid_template_columns": null,
            "flex": null,
            "_model_name": "LayoutModel",
            "justify_items": null,
            "grid_row": null,
            "max_height": null,
            "align_content": null,
            "visibility": null,
            "align_self": null,
            "height": null,
            "min_height": null,
            "padding": null,
            "grid_auto_rows": null,
            "grid_gap": null,
            "max_width": null,
            "order": null,
            "_view_module_version": "1.2.0",
            "grid_template_areas": null,
            "object_position": null,
            "object_fit": null,
            "grid_auto_columns": null,
            "margin": null,
            "display": null,
            "left": null
          }
        },
        "3c1b047e40484af984b3299cad6382c1": {
          "model_module": "@jupyter-widgets/controls",
          "model_name": "FloatProgressModel",
          "state": {
            "_view_name": "ProgressView",
            "style": "IPY_MODEL_b54128433a674d7eb75864a1b9c1d24c",
            "_dom_classes": [],
            "description": "Downloading: 100%",
            "_model_name": "FloatProgressModel",
            "bar_style": "success",
            "max": 456318,
            "_view_module": "@jupyter-widgets/controls",
            "_model_module_version": "1.5.0",
            "value": 456318,
            "_view_count": null,
            "_view_module_version": "1.5.0",
            "orientation": "horizontal",
            "min": 0,
            "description_tooltip": null,
            "_model_module": "@jupyter-widgets/controls",
            "layout": "IPY_MODEL_1eeb2454c53e4bf699f8a487b3dd6b6b"
          }
        },
        "a963a098d9ef46a3b6f11ba3663e7bf7": {
          "model_module": "@jupyter-widgets/controls",
          "model_name": "HTMLModel",
          "state": {
            "_view_name": "HTMLView",
            "style": "IPY_MODEL_64d9433cdcc241e3a0d8f88493203e1e",
            "_dom_classes": [],
            "description": "",
            "_model_name": "HTMLModel",
            "placeholder": "​",
            "_view_module": "@jupyter-widgets/controls",
            "_model_module_version": "1.5.0",
            "value": " 456k/456k [00:00&lt;00:00, 1.23MB/s]",
            "_view_count": null,
            "_view_module_version": "1.5.0",
            "description_tooltip": null,
            "_model_module": "@jupyter-widgets/controls",
            "layout": "IPY_MODEL_3172cdec9f6b4b1b8260d25bf8ea3167"
          }
        },
        "b54128433a674d7eb75864a1b9c1d24c": {
          "model_module": "@jupyter-widgets/controls",
          "model_name": "ProgressStyleModel",
          "state": {
            "_view_name": "StyleView",
            "_model_name": "ProgressStyleModel",
            "description_width": "initial",
            "_view_module": "@jupyter-widgets/base",
            "_model_module_version": "1.5.0",
            "_view_count": null,
            "_view_module_version": "1.2.0",
            "bar_color": null,
            "_model_module": "@jupyter-widgets/controls"
          }
        },
        "1eeb2454c53e4bf699f8a487b3dd6b6b": {
          "model_module": "@jupyter-widgets/base",
          "model_name": "LayoutModel",
          "state": {
            "_view_name": "LayoutView",
            "grid_template_rows": null,
            "right": null,
            "justify_content": null,
            "_view_module": "@jupyter-widgets/base",
            "overflow": null,
            "_model_module_version": "1.2.0",
            "_view_count": null,
            "flex_flow": null,
            "width": null,
            "min_width": null,
            "border": null,
            "align_items": null,
            "bottom": null,
            "_model_module": "@jupyter-widgets/base",
            "top": null,
            "grid_column": null,
            "overflow_y": null,
            "overflow_x": null,
            "grid_auto_flow": null,
            "grid_area": null,
            "grid_template_columns": null,
            "flex": null,
            "_model_name": "LayoutModel",
            "justify_items": null,
            "grid_row": null,
            "max_height": null,
            "align_content": null,
            "visibility": null,
            "align_self": null,
            "height": null,
            "min_height": null,
            "padding": null,
            "grid_auto_rows": null,
            "grid_gap": null,
            "max_width": null,
            "order": null,
            "_view_module_version": "1.2.0",
            "grid_template_areas": null,
            "object_position": null,
            "object_fit": null,
            "grid_auto_columns": null,
            "margin": null,
            "display": null,
            "left": null
          }
        },
        "64d9433cdcc241e3a0d8f88493203e1e": {
          "model_module": "@jupyter-widgets/controls",
          "model_name": "DescriptionStyleModel",
          "state": {
            "_view_name": "StyleView",
            "_model_name": "DescriptionStyleModel",
            "description_width": "",
            "_view_module": "@jupyter-widgets/base",
            "_model_module_version": "1.5.0",
            "_view_count": null,
            "_view_module_version": "1.2.0",
            "_model_module": "@jupyter-widgets/controls"
          }
        },
        "3172cdec9f6b4b1b8260d25bf8ea3167": {
          "model_module": "@jupyter-widgets/base",
          "model_name": "LayoutModel",
          "state": {
            "_view_name": "LayoutView",
            "grid_template_rows": null,
            "right": null,
            "justify_content": null,
            "_view_module": "@jupyter-widgets/base",
            "overflow": null,
            "_model_module_version": "1.2.0",
            "_view_count": null,
            "flex_flow": null,
            "width": null,
            "min_width": null,
            "border": null,
            "align_items": null,
            "bottom": null,
            "_model_module": "@jupyter-widgets/base",
            "top": null,
            "grid_column": null,
            "overflow_y": null,
            "overflow_x": null,
            "grid_auto_flow": null,
            "grid_area": null,
            "grid_template_columns": null,
            "flex": null,
            "_model_name": "LayoutModel",
            "justify_items": null,
            "grid_row": null,
            "max_height": null,
            "align_content": null,
            "visibility": null,
            "align_self": null,
            "height": null,
            "min_height": null,
            "padding": null,
            "grid_auto_rows": null,
            "grid_gap": null,
            "max_width": null,
            "order": null,
            "_view_module_version": "1.2.0",
            "grid_template_areas": null,
            "object_position": null,
            "object_fit": null,
            "grid_auto_columns": null,
            "margin": null,
            "display": null,
            "left": null
          }
        },
        "ca47d35acb5c4dabb0e65ae880f09561": {
          "model_module": "@jupyter-widgets/controls",
          "model_name": "HBoxModel",
          "state": {
            "_view_name": "HBoxView",
            "_dom_classes": [],
            "_model_name": "HBoxModel",
            "_view_module": "@jupyter-widgets/controls",
            "_model_module_version": "1.5.0",
            "_view_count": null,
            "_view_module_version": "1.5.0",
            "box_style": "",
            "layout": "IPY_MODEL_4060ff2768954257a169548bce575b66",
            "_model_module": "@jupyter-widgets/controls",
            "children": [
              "IPY_MODEL_df0db457806042ca848e95fc32e78a89",
              "IPY_MODEL_d464a193f769412ab9e57ab4a3820909"
            ]
          }
        },
        "4060ff2768954257a169548bce575b66": {
          "model_module": "@jupyter-widgets/base",
          "model_name": "LayoutModel",
          "state": {
            "_view_name": "LayoutView",
            "grid_template_rows": null,
            "right": null,
            "justify_content": null,
            "_view_module": "@jupyter-widgets/base",
            "overflow": null,
            "_model_module_version": "1.2.0",
            "_view_count": null,
            "flex_flow": null,
            "width": null,
            "min_width": null,
            "border": null,
            "align_items": null,
            "bottom": null,
            "_model_module": "@jupyter-widgets/base",
            "top": null,
            "grid_column": null,
            "overflow_y": null,
            "overflow_x": null,
            "grid_auto_flow": null,
            "grid_area": null,
            "grid_template_columns": null,
            "flex": null,
            "_model_name": "LayoutModel",
            "justify_items": null,
            "grid_row": null,
            "max_height": null,
            "align_content": null,
            "visibility": null,
            "align_self": null,
            "height": null,
            "min_height": null,
            "padding": null,
            "grid_auto_rows": null,
            "grid_gap": null,
            "max_width": null,
            "order": null,
            "_view_module_version": "1.2.0",
            "grid_template_areas": null,
            "object_position": null,
            "object_fit": null,
            "grid_auto_columns": null,
            "margin": null,
            "display": null,
            "left": null
          }
        },
        "df0db457806042ca848e95fc32e78a89": {
          "model_module": "@jupyter-widgets/controls",
          "model_name": "FloatProgressModel",
          "state": {
            "_view_name": "ProgressView",
            "style": "IPY_MODEL_45c1c6edd3214f79a7f6577cecdd93db",
            "_dom_classes": [],
            "description": "Downloading: 100%",
            "_model_name": "FloatProgressModel",
            "bar_style": "success",
            "max": 481,
            "_view_module": "@jupyter-widgets/controls",
            "_model_module_version": "1.5.0",
            "value": 481,
            "_view_count": null,
            "_view_module_version": "1.5.0",
            "orientation": "horizontal",
            "min": 0,
            "description_tooltip": null,
            "_model_module": "@jupyter-widgets/controls",
            "layout": "IPY_MODEL_f08d8b349cd04aebb7c1d7bcc79478ed"
          }
        },
        "d464a193f769412ab9e57ab4a3820909": {
          "model_module": "@jupyter-widgets/controls",
          "model_name": "HTMLModel",
          "state": {
            "_view_name": "HTMLView",
            "style": "IPY_MODEL_59788c14f14848b89a5fca2b65e9c787",
            "_dom_classes": [],
            "description": "",
            "_model_name": "HTMLModel",
            "placeholder": "​",
            "_view_module": "@jupyter-widgets/controls",
            "_model_module_version": "1.5.0",
            "value": " 481/481 [01:45&lt;00:00, 4.56B/s]",
            "_view_count": null,
            "_view_module_version": "1.5.0",
            "description_tooltip": null,
            "_model_module": "@jupyter-widgets/controls",
            "layout": "IPY_MODEL_5cbb3401e20547209e6ca988731a69c3"
          }
        },
        "45c1c6edd3214f79a7f6577cecdd93db": {
          "model_module": "@jupyter-widgets/controls",
          "model_name": "ProgressStyleModel",
          "state": {
            "_view_name": "StyleView",
            "_model_name": "ProgressStyleModel",
            "description_width": "initial",
            "_view_module": "@jupyter-widgets/base",
            "_model_module_version": "1.5.0",
            "_view_count": null,
            "_view_module_version": "1.2.0",
            "bar_color": null,
            "_model_module": "@jupyter-widgets/controls"
          }
        },
        "f08d8b349cd04aebb7c1d7bcc79478ed": {
          "model_module": "@jupyter-widgets/base",
          "model_name": "LayoutModel",
          "state": {
            "_view_name": "LayoutView",
            "grid_template_rows": null,
            "right": null,
            "justify_content": null,
            "_view_module": "@jupyter-widgets/base",
            "overflow": null,
            "_model_module_version": "1.2.0",
            "_view_count": null,
            "flex_flow": null,
            "width": null,
            "min_width": null,
            "border": null,
            "align_items": null,
            "bottom": null,
            "_model_module": "@jupyter-widgets/base",
            "top": null,
            "grid_column": null,
            "overflow_y": null,
            "overflow_x": null,
            "grid_auto_flow": null,
            "grid_area": null,
            "grid_template_columns": null,
            "flex": null,
            "_model_name": "LayoutModel",
            "justify_items": null,
            "grid_row": null,
            "max_height": null,
            "align_content": null,
            "visibility": null,
            "align_self": null,
            "height": null,
            "min_height": null,
            "padding": null,
            "grid_auto_rows": null,
            "grid_gap": null,
            "max_width": null,
            "order": null,
            "_view_module_version": "1.2.0",
            "grid_template_areas": null,
            "object_position": null,
            "object_fit": null,
            "grid_auto_columns": null,
            "margin": null,
            "display": null,
            "left": null
          }
        },
        "59788c14f14848b89a5fca2b65e9c787": {
          "model_module": "@jupyter-widgets/controls",
          "model_name": "DescriptionStyleModel",
          "state": {
            "_view_name": "StyleView",
            "_model_name": "DescriptionStyleModel",
            "description_width": "",
            "_view_module": "@jupyter-widgets/base",
            "_model_module_version": "1.5.0",
            "_view_count": null,
            "_view_module_version": "1.2.0",
            "_model_module": "@jupyter-widgets/controls"
          }
        },
        "5cbb3401e20547209e6ca988731a69c3": {
          "model_module": "@jupyter-widgets/base",
          "model_name": "LayoutModel",
          "state": {
            "_view_name": "LayoutView",
            "grid_template_rows": null,
            "right": null,
            "justify_content": null,
            "_view_module": "@jupyter-widgets/base",
            "overflow": null,
            "_model_module_version": "1.2.0",
            "_view_count": null,
            "flex_flow": null,
            "width": null,
            "min_width": null,
            "border": null,
            "align_items": null,
            "bottom": null,
            "_model_module": "@jupyter-widgets/base",
            "top": null,
            "grid_column": null,
            "overflow_y": null,
            "overflow_x": null,
            "grid_auto_flow": null,
            "grid_area": null,
            "grid_template_columns": null,
            "flex": null,
            "_model_name": "LayoutModel",
            "justify_items": null,
            "grid_row": null,
            "max_height": null,
            "align_content": null,
            "visibility": null,
            "align_self": null,
            "height": null,
            "min_height": null,
            "padding": null,
            "grid_auto_rows": null,
            "grid_gap": null,
            "max_width": null,
            "order": null,
            "_view_module_version": "1.2.0",
            "grid_template_areas": null,
            "object_position": null,
            "object_fit": null,
            "grid_auto_columns": null,
            "margin": null,
            "display": null,
            "left": null
          }
        },
        "0bbc04755d514622bea433180dbc862d": {
          "model_module": "@jupyter-widgets/controls",
          "model_name": "HBoxModel",
          "state": {
            "_view_name": "HBoxView",
            "_dom_classes": [],
            "_model_name": "HBoxModel",
            "_view_module": "@jupyter-widgets/controls",
            "_model_module_version": "1.5.0",
            "_view_count": null,
            "_view_module_version": "1.5.0",
            "box_style": "",
            "layout": "IPY_MODEL_0d42453329db41b581a9ec41e8318708",
            "_model_module": "@jupyter-widgets/controls",
            "children": [
              "IPY_MODEL_5d02d7d29bff4e6c9eb0741d49c5c785",
              "IPY_MODEL_1c664125f4984e8bb345edbe383c790c"
            ]
          }
        },
        "0d42453329db41b581a9ec41e8318708": {
          "model_module": "@jupyter-widgets/base",
          "model_name": "LayoutModel",
          "state": {
            "_view_name": "LayoutView",
            "grid_template_rows": null,
            "right": null,
            "justify_content": null,
            "_view_module": "@jupyter-widgets/base",
            "overflow": null,
            "_model_module_version": "1.2.0",
            "_view_count": null,
            "flex_flow": null,
            "width": null,
            "min_width": null,
            "border": null,
            "align_items": null,
            "bottom": null,
            "_model_module": "@jupyter-widgets/base",
            "top": null,
            "grid_column": null,
            "overflow_y": null,
            "overflow_x": null,
            "grid_auto_flow": null,
            "grid_area": null,
            "grid_template_columns": null,
            "flex": null,
            "_model_name": "LayoutModel",
            "justify_items": null,
            "grid_row": null,
            "max_height": null,
            "align_content": null,
            "visibility": null,
            "align_self": null,
            "height": null,
            "min_height": null,
            "padding": null,
            "grid_auto_rows": null,
            "grid_gap": null,
            "max_width": null,
            "order": null,
            "_view_module_version": "1.2.0",
            "grid_template_areas": null,
            "object_position": null,
            "object_fit": null,
            "grid_auto_columns": null,
            "margin": null,
            "display": null,
            "left": null
          }
        },
        "5d02d7d29bff4e6c9eb0741d49c5c785": {
          "model_module": "@jupyter-widgets/controls",
          "model_name": "FloatProgressModel",
          "state": {
            "_view_name": "ProgressView",
            "style": "IPY_MODEL_628970b748fb4c649eb140331e247905",
            "_dom_classes": [],
            "description": "Downloading: 100%",
            "_model_name": "FloatProgressModel",
            "bar_style": "success",
            "max": 501200538,
            "_view_module": "@jupyter-widgets/controls",
            "_model_module_version": "1.5.0",
            "value": 501200538,
            "_view_count": null,
            "_view_module_version": "1.5.0",
            "orientation": "horizontal",
            "min": 0,
            "description_tooltip": null,
            "_model_module": "@jupyter-widgets/controls",
            "layout": "IPY_MODEL_91ea1ed6ba9a4ee7927e5cbb62f58a3c"
          }
        },
        "1c664125f4984e8bb345edbe383c790c": {
          "model_module": "@jupyter-widgets/controls",
          "model_name": "HTMLModel",
          "state": {
            "_view_name": "HTMLView",
            "style": "IPY_MODEL_7e5d9c45a85a497c9b5af5312b162966",
            "_dom_classes": [],
            "description": "",
            "_model_name": "HTMLModel",
            "placeholder": "​",
            "_view_module": "@jupyter-widgets/controls",
            "_model_module_version": "1.5.0",
            "value": " 501M/501M [00:07&lt;00:00, 65.0MB/s]",
            "_view_count": null,
            "_view_module_version": "1.5.0",
            "description_tooltip": null,
            "_model_module": "@jupyter-widgets/controls",
            "layout": "IPY_MODEL_9436337d94a6471f8d290714de825ca6"
          }
        },
        "628970b748fb4c649eb140331e247905": {
          "model_module": "@jupyter-widgets/controls",
          "model_name": "ProgressStyleModel",
          "state": {
            "_view_name": "StyleView",
            "_model_name": "ProgressStyleModel",
            "description_width": "initial",
            "_view_module": "@jupyter-widgets/base",
            "_model_module_version": "1.5.0",
            "_view_count": null,
            "_view_module_version": "1.2.0",
            "bar_color": null,
            "_model_module": "@jupyter-widgets/controls"
          }
        },
        "91ea1ed6ba9a4ee7927e5cbb62f58a3c": {
          "model_module": "@jupyter-widgets/base",
          "model_name": "LayoutModel",
          "state": {
            "_view_name": "LayoutView",
            "grid_template_rows": null,
            "right": null,
            "justify_content": null,
            "_view_module": "@jupyter-widgets/base",
            "overflow": null,
            "_model_module_version": "1.2.0",
            "_view_count": null,
            "flex_flow": null,
            "width": null,
            "min_width": null,
            "border": null,
            "align_items": null,
            "bottom": null,
            "_model_module": "@jupyter-widgets/base",
            "top": null,
            "grid_column": null,
            "overflow_y": null,
            "overflow_x": null,
            "grid_auto_flow": null,
            "grid_area": null,
            "grid_template_columns": null,
            "flex": null,
            "_model_name": "LayoutModel",
            "justify_items": null,
            "grid_row": null,
            "max_height": null,
            "align_content": null,
            "visibility": null,
            "align_self": null,
            "height": null,
            "min_height": null,
            "padding": null,
            "grid_auto_rows": null,
            "grid_gap": null,
            "max_width": null,
            "order": null,
            "_view_module_version": "1.2.0",
            "grid_template_areas": null,
            "object_position": null,
            "object_fit": null,
            "grid_auto_columns": null,
            "margin": null,
            "display": null,
            "left": null
          }
        },
        "7e5d9c45a85a497c9b5af5312b162966": {
          "model_module": "@jupyter-widgets/controls",
          "model_name": "DescriptionStyleModel",
          "state": {
            "_view_name": "StyleView",
            "_model_name": "DescriptionStyleModel",
            "description_width": "",
            "_view_module": "@jupyter-widgets/base",
            "_model_module_version": "1.5.0",
            "_view_count": null,
            "_view_module_version": "1.2.0",
            "_model_module": "@jupyter-widgets/controls"
          }
        },
        "9436337d94a6471f8d290714de825ca6": {
          "model_module": "@jupyter-widgets/base",
          "model_name": "LayoutModel",
          "state": {
            "_view_name": "LayoutView",
            "grid_template_rows": null,
            "right": null,
            "justify_content": null,
            "_view_module": "@jupyter-widgets/base",
            "overflow": null,
            "_model_module_version": "1.2.0",
            "_view_count": null,
            "flex_flow": null,
            "width": null,
            "min_width": null,
            "border": null,
            "align_items": null,
            "bottom": null,
            "_model_module": "@jupyter-widgets/base",
            "top": null,
            "grid_column": null,
            "overflow_y": null,
            "overflow_x": null,
            "grid_auto_flow": null,
            "grid_area": null,
            "grid_template_columns": null,
            "flex": null,
            "_model_name": "LayoutModel",
            "justify_items": null,
            "grid_row": null,
            "max_height": null,
            "align_content": null,
            "visibility": null,
            "align_self": null,
            "height": null,
            "min_height": null,
            "padding": null,
            "grid_auto_rows": null,
            "grid_gap": null,
            "max_width": null,
            "order": null,
            "_view_module_version": "1.2.0",
            "grid_template_areas": null,
            "object_position": null,
            "object_fit": null,
            "grid_auto_columns": null,
            "margin": null,
            "display": null,
            "left": null
          }
        },
        "c677e76ea4354c29856af3955fa47047": {
          "model_module": "@jupyter-widgets/controls",
          "model_name": "HBoxModel",
          "state": {
            "_view_name": "HBoxView",
            "_dom_classes": [],
            "_model_name": "HBoxModel",
            "_view_module": "@jupyter-widgets/controls",
            "_model_module_version": "1.5.0",
            "_view_count": null,
            "_view_module_version": "1.5.0",
            "box_style": "",
            "layout": "IPY_MODEL_548fd5a47f3c4cf1aa15c1b2bdfae2b8",
            "_model_module": "@jupyter-widgets/controls",
            "children": [
              "IPY_MODEL_baf9d27621304d829d4c65833603c5d3",
              "IPY_MODEL_02e2133977d14953bdf7b42a720a21d1"
            ]
          }
        },
        "548fd5a47f3c4cf1aa15c1b2bdfae2b8": {
          "model_module": "@jupyter-widgets/base",
          "model_name": "LayoutModel",
          "state": {
            "_view_name": "LayoutView",
            "grid_template_rows": null,
            "right": null,
            "justify_content": null,
            "_view_module": "@jupyter-widgets/base",
            "overflow": null,
            "_model_module_version": "1.2.0",
            "_view_count": null,
            "flex_flow": null,
            "width": null,
            "min_width": null,
            "border": null,
            "align_items": null,
            "bottom": null,
            "_model_module": "@jupyter-widgets/base",
            "top": null,
            "grid_column": null,
            "overflow_y": null,
            "overflow_x": null,
            "grid_auto_flow": null,
            "grid_area": null,
            "grid_template_columns": null,
            "flex": null,
            "_model_name": "LayoutModel",
            "justify_items": null,
            "grid_row": null,
            "max_height": null,
            "align_content": null,
            "visibility": null,
            "align_self": null,
            "height": null,
            "min_height": null,
            "padding": null,
            "grid_auto_rows": null,
            "grid_gap": null,
            "max_width": null,
            "order": null,
            "_view_module_version": "1.2.0",
            "grid_template_areas": null,
            "object_position": null,
            "object_fit": null,
            "grid_auto_columns": null,
            "margin": null,
            "display": null,
            "left": null
          }
        },
        "baf9d27621304d829d4c65833603c5d3": {
          "model_module": "@jupyter-widgets/controls",
          "model_name": "FloatProgressModel",
          "state": {
            "_view_name": "ProgressView",
            "style": "IPY_MODEL_3d202bf3d98a49e3b590b1ef3f120ae3",
            "_dom_classes": [],
            "description": "Downloading: 100%",
            "_model_name": "FloatProgressModel",
            "bar_style": "success",
            "max": 481,
            "_view_module": "@jupyter-widgets/controls",
            "_model_module_version": "1.5.0",
            "value": 481,
            "_view_count": null,
            "_view_module_version": "1.5.0",
            "orientation": "horizontal",
            "min": 0,
            "description_tooltip": null,
            "_model_module": "@jupyter-widgets/controls",
            "layout": "IPY_MODEL_98698dfee8b547eaa03c98dbe5d34a4c"
          }
        },
        "02e2133977d14953bdf7b42a720a21d1": {
          "model_module": "@jupyter-widgets/controls",
          "model_name": "HTMLModel",
          "state": {
            "_view_name": "HTMLView",
            "style": "IPY_MODEL_686f37a96dc44eae9115ea24de966ede",
            "_dom_classes": [],
            "description": "",
            "_model_name": "HTMLModel",
            "placeholder": "​",
            "_view_module": "@jupyter-widgets/controls",
            "_model_module_version": "1.5.0",
            "value": " 481/481 [00:08&lt;00:00, 55.8B/s]",
            "_view_count": null,
            "_view_module_version": "1.5.0",
            "description_tooltip": null,
            "_model_module": "@jupyter-widgets/controls",
            "layout": "IPY_MODEL_f46a6467425b40379fe98b74a6b68d0f"
          }
        },
        "3d202bf3d98a49e3b590b1ef3f120ae3": {
          "model_module": "@jupyter-widgets/controls",
          "model_name": "ProgressStyleModel",
          "state": {
            "_view_name": "StyleView",
            "_model_name": "ProgressStyleModel",
            "description_width": "initial",
            "_view_module": "@jupyter-widgets/base",
            "_model_module_version": "1.5.0",
            "_view_count": null,
            "_view_module_version": "1.2.0",
            "bar_color": null,
            "_model_module": "@jupyter-widgets/controls"
          }
        },
        "98698dfee8b547eaa03c98dbe5d34a4c": {
          "model_module": "@jupyter-widgets/base",
          "model_name": "LayoutModel",
          "state": {
            "_view_name": "LayoutView",
            "grid_template_rows": null,
            "right": null,
            "justify_content": null,
            "_view_module": "@jupyter-widgets/base",
            "overflow": null,
            "_model_module_version": "1.2.0",
            "_view_count": null,
            "flex_flow": null,
            "width": null,
            "min_width": null,
            "border": null,
            "align_items": null,
            "bottom": null,
            "_model_module": "@jupyter-widgets/base",
            "top": null,
            "grid_column": null,
            "overflow_y": null,
            "overflow_x": null,
            "grid_auto_flow": null,
            "grid_area": null,
            "grid_template_columns": null,
            "flex": null,
            "_model_name": "LayoutModel",
            "justify_items": null,
            "grid_row": null,
            "max_height": null,
            "align_content": null,
            "visibility": null,
            "align_self": null,
            "height": null,
            "min_height": null,
            "padding": null,
            "grid_auto_rows": null,
            "grid_gap": null,
            "max_width": null,
            "order": null,
            "_view_module_version": "1.2.0",
            "grid_template_areas": null,
            "object_position": null,
            "object_fit": null,
            "grid_auto_columns": null,
            "margin": null,
            "display": null,
            "left": null
          }
        },
        "686f37a96dc44eae9115ea24de966ede": {
          "model_module": "@jupyter-widgets/controls",
          "model_name": "DescriptionStyleModel",
          "state": {
            "_view_name": "StyleView",
            "_model_name": "DescriptionStyleModel",
            "description_width": "",
            "_view_module": "@jupyter-widgets/base",
            "_model_module_version": "1.5.0",
            "_view_count": null,
            "_view_module_version": "1.2.0",
            "_model_module": "@jupyter-widgets/controls"
          }
        },
        "f46a6467425b40379fe98b74a6b68d0f": {
          "model_module": "@jupyter-widgets/base",
          "model_name": "LayoutModel",
          "state": {
            "_view_name": "LayoutView",
            "grid_template_rows": null,
            "right": null,
            "justify_content": null,
            "_view_module": "@jupyter-widgets/base",
            "overflow": null,
            "_model_module_version": "1.2.0",
            "_view_count": null,
            "flex_flow": null,
            "width": null,
            "min_width": null,
            "border": null,
            "align_items": null,
            "bottom": null,
            "_model_module": "@jupyter-widgets/base",
            "top": null,
            "grid_column": null,
            "overflow_y": null,
            "overflow_x": null,
            "grid_auto_flow": null,
            "grid_area": null,
            "grid_template_columns": null,
            "flex": null,
            "_model_name": "LayoutModel",
            "justify_items": null,
            "grid_row": null,
            "max_height": null,
            "align_content": null,
            "visibility": null,
            "align_self": null,
            "height": null,
            "min_height": null,
            "padding": null,
            "grid_auto_rows": null,
            "grid_gap": null,
            "max_width": null,
            "order": null,
            "_view_module_version": "1.2.0",
            "grid_template_areas": null,
            "object_position": null,
            "object_fit": null,
            "grid_auto_columns": null,
            "margin": null,
            "display": null,
            "left": null
          }
        },
        "70070789da9d483196296167fdba94b0": {
          "model_module": "@jupyter-widgets/controls",
          "model_name": "HBoxModel",
          "state": {
            "_view_name": "HBoxView",
            "_dom_classes": [],
            "_model_name": "HBoxModel",
            "_view_module": "@jupyter-widgets/controls",
            "_model_module_version": "1.5.0",
            "_view_count": null,
            "_view_module_version": "1.5.0",
            "box_style": "",
            "layout": "IPY_MODEL_e1830fdba02546eaa13e3c073eb2e9ca",
            "_model_module": "@jupyter-widgets/controls",
            "children": [
              "IPY_MODEL_24f088311b60419bb1d32acbbe706641",
              "IPY_MODEL_6f2ed9e31cc74dd38a3ef9ae2e952408"
            ]
          }
        },
        "e1830fdba02546eaa13e3c073eb2e9ca": {
          "model_module": "@jupyter-widgets/base",
          "model_name": "LayoutModel",
          "state": {
            "_view_name": "LayoutView",
            "grid_template_rows": null,
            "right": null,
            "justify_content": null,
            "_view_module": "@jupyter-widgets/base",
            "overflow": null,
            "_model_module_version": "1.2.0",
            "_view_count": null,
            "flex_flow": null,
            "width": null,
            "min_width": null,
            "border": null,
            "align_items": null,
            "bottom": null,
            "_model_module": "@jupyter-widgets/base",
            "top": null,
            "grid_column": null,
            "overflow_y": null,
            "overflow_x": null,
            "grid_auto_flow": null,
            "grid_area": null,
            "grid_template_columns": null,
            "flex": null,
            "_model_name": "LayoutModel",
            "justify_items": null,
            "grid_row": null,
            "max_height": null,
            "align_content": null,
            "visibility": null,
            "align_self": null,
            "height": null,
            "min_height": null,
            "padding": null,
            "grid_auto_rows": null,
            "grid_gap": null,
            "max_width": null,
            "order": null,
            "_view_module_version": "1.2.0",
            "grid_template_areas": null,
            "object_position": null,
            "object_fit": null,
            "grid_auto_columns": null,
            "margin": null,
            "display": null,
            "left": null
          }
        },
        "24f088311b60419bb1d32acbbe706641": {
          "model_module": "@jupyter-widgets/controls",
          "model_name": "FloatProgressModel",
          "state": {
            "_view_name": "ProgressView",
            "style": "IPY_MODEL_5fc23a67f96f48fdb7a9353b53fd59b3",
            "_dom_classes": [],
            "description": "Downloading: 100%",
            "_model_name": "FloatProgressModel",
            "bar_style": "success",
            "max": 501200538,
            "_view_module": "@jupyter-widgets/controls",
            "_model_module_version": "1.5.0",
            "value": 501200538,
            "_view_count": null,
            "_view_module_version": "1.5.0",
            "orientation": "horizontal",
            "min": 0,
            "description_tooltip": null,
            "_model_module": "@jupyter-widgets/controls",
            "layout": "IPY_MODEL_833d0dc0b313458bb2bbb41a2013ec68"
          }
        },
        "6f2ed9e31cc74dd38a3ef9ae2e952408": {
          "model_module": "@jupyter-widgets/controls",
          "model_name": "HTMLModel",
          "state": {
            "_view_name": "HTMLView",
            "style": "IPY_MODEL_fe0996cc6a2d4765b008aa7b4517e5ff",
            "_dom_classes": [],
            "description": "",
            "_model_name": "HTMLModel",
            "placeholder": "​",
            "_view_module": "@jupyter-widgets/controls",
            "_model_module_version": "1.5.0",
            "value": " 501M/501M [00:08&lt;00:00, 61.5MB/s]",
            "_view_count": null,
            "_view_module_version": "1.5.0",
            "description_tooltip": null,
            "_model_module": "@jupyter-widgets/controls",
            "layout": "IPY_MODEL_01fe319e8c0d46cb8ea9fa1953f2c837"
          }
        },
        "5fc23a67f96f48fdb7a9353b53fd59b3": {
          "model_module": "@jupyter-widgets/controls",
          "model_name": "ProgressStyleModel",
          "state": {
            "_view_name": "StyleView",
            "_model_name": "ProgressStyleModel",
            "description_width": "initial",
            "_view_module": "@jupyter-widgets/base",
            "_model_module_version": "1.5.0",
            "_view_count": null,
            "_view_module_version": "1.2.0",
            "bar_color": null,
            "_model_module": "@jupyter-widgets/controls"
          }
        },
        "833d0dc0b313458bb2bbb41a2013ec68": {
          "model_module": "@jupyter-widgets/base",
          "model_name": "LayoutModel",
          "state": {
            "_view_name": "LayoutView",
            "grid_template_rows": null,
            "right": null,
            "justify_content": null,
            "_view_module": "@jupyter-widgets/base",
            "overflow": null,
            "_model_module_version": "1.2.0",
            "_view_count": null,
            "flex_flow": null,
            "width": null,
            "min_width": null,
            "border": null,
            "align_items": null,
            "bottom": null,
            "_model_module": "@jupyter-widgets/base",
            "top": null,
            "grid_column": null,
            "overflow_y": null,
            "overflow_x": null,
            "grid_auto_flow": null,
            "grid_area": null,
            "grid_template_columns": null,
            "flex": null,
            "_model_name": "LayoutModel",
            "justify_items": null,
            "grid_row": null,
            "max_height": null,
            "align_content": null,
            "visibility": null,
            "align_self": null,
            "height": null,
            "min_height": null,
            "padding": null,
            "grid_auto_rows": null,
            "grid_gap": null,
            "max_width": null,
            "order": null,
            "_view_module_version": "1.2.0",
            "grid_template_areas": null,
            "object_position": null,
            "object_fit": null,
            "grid_auto_columns": null,
            "margin": null,
            "display": null,
            "left": null
          }
        },
        "fe0996cc6a2d4765b008aa7b4517e5ff": {
          "model_module": "@jupyter-widgets/controls",
          "model_name": "DescriptionStyleModel",
          "state": {
            "_view_name": "StyleView",
            "_model_name": "DescriptionStyleModel",
            "description_width": "",
            "_view_module": "@jupyter-widgets/base",
            "_model_module_version": "1.5.0",
            "_view_count": null,
            "_view_module_version": "1.2.0",
            "_model_module": "@jupyter-widgets/controls"
          }
        },
        "01fe319e8c0d46cb8ea9fa1953f2c837": {
          "model_module": "@jupyter-widgets/base",
          "model_name": "LayoutModel",
          "state": {
            "_view_name": "LayoutView",
            "grid_template_rows": null,
            "right": null,
            "justify_content": null,
            "_view_module": "@jupyter-widgets/base",
            "overflow": null,
            "_model_module_version": "1.2.0",
            "_view_count": null,
            "flex_flow": null,
            "width": null,
            "min_width": null,
            "border": null,
            "align_items": null,
            "bottom": null,
            "_model_module": "@jupyter-widgets/base",
            "top": null,
            "grid_column": null,
            "overflow_y": null,
            "overflow_x": null,
            "grid_auto_flow": null,
            "grid_area": null,
            "grid_template_columns": null,
            "flex": null,
            "_model_name": "LayoutModel",
            "justify_items": null,
            "grid_row": null,
            "max_height": null,
            "align_content": null,
            "visibility": null,
            "align_self": null,
            "height": null,
            "min_height": null,
            "padding": null,
            "grid_auto_rows": null,
            "grid_gap": null,
            "max_width": null,
            "order": null,
            "_view_module_version": "1.2.0",
            "grid_template_areas": null,
            "object_position": null,
            "object_fit": null,
            "grid_auto_columns": null,
            "margin": null,
            "display": null,
            "left": null
          }
        }
      }
    },
    "accelerator": "GPU"
  },
  "cells": [
    {
      "cell_type": "code",
      "metadata": {
        "colab": {
          "base_uri": "https://localhost:8080/"
        },
        "id": "PNoDWjA994ei",
        "outputId": "7570715f-f0aa-44a5-f2a4-7f76ffc79bbc"
      },
      "source": [
        "pip install transformers==3.5.1"
      ],
      "execution_count": null,
      "outputs": [
        {
          "output_type": "stream",
          "text": [
            "Collecting transformers==3.5.1\n",
            "\u001b[?25l  Downloading https://files.pythonhosted.org/packages/3a/83/e74092e7f24a08d751aa59b37a9fc572b2e4af3918cb66f7766c3affb1b4/transformers-3.5.1-py3-none-any.whl (1.3MB)\n",
            "\r\u001b[K     |▎                               | 10kB 20.6MB/s eta 0:00:01\r\u001b[K     |▌                               | 20kB 18.6MB/s eta 0:00:01\r\u001b[K     |▊                               | 30kB 11.0MB/s eta 0:00:01\r\u001b[K     |█                               | 40kB 9.1MB/s eta 0:00:01\r\u001b[K     |█▎                              | 51kB 7.8MB/s eta 0:00:01\r\u001b[K     |█▌                              | 61kB 8.3MB/s eta 0:00:01\r\u001b[K     |█▊                              | 71kB 8.5MB/s eta 0:00:01\r\u001b[K     |██                              | 81kB 8.5MB/s eta 0:00:01\r\u001b[K     |██▎                             | 92kB 8.6MB/s eta 0:00:01\r\u001b[K     |██▌                             | 102kB 7.6MB/s eta 0:00:01\r\u001b[K     |██▊                             | 112kB 7.6MB/s eta 0:00:01\r\u001b[K     |███                             | 122kB 7.6MB/s eta 0:00:01\r\u001b[K     |███▎                            | 133kB 7.6MB/s eta 0:00:01\r\u001b[K     |███▌                            | 143kB 7.6MB/s eta 0:00:01\r\u001b[K     |███▉                            | 153kB 7.6MB/s eta 0:00:01\r\u001b[K     |████                            | 163kB 7.6MB/s eta 0:00:01\r\u001b[K     |████▎                           | 174kB 7.6MB/s eta 0:00:01\r\u001b[K     |████▌                           | 184kB 7.6MB/s eta 0:00:01\r\u001b[K     |████▉                           | 194kB 7.6MB/s eta 0:00:01\r\u001b[K     |█████                           | 204kB 7.6MB/s eta 0:00:01\r\u001b[K     |█████▎                          | 215kB 7.6MB/s eta 0:00:01\r\u001b[K     |█████▌                          | 225kB 7.6MB/s eta 0:00:01\r\u001b[K     |█████▉                          | 235kB 7.6MB/s eta 0:00:01\r\u001b[K     |██████                          | 245kB 7.6MB/s eta 0:00:01\r\u001b[K     |██████▎                         | 256kB 7.6MB/s eta 0:00:01\r\u001b[K     |██████▌                         | 266kB 7.6MB/s eta 0:00:01\r\u001b[K     |██████▉                         | 276kB 7.6MB/s eta 0:00:01\r\u001b[K     |███████                         | 286kB 7.6MB/s eta 0:00:01\r\u001b[K     |███████▎                        | 296kB 7.6MB/s eta 0:00:01\r\u001b[K     |███████▋                        | 307kB 7.6MB/s eta 0:00:01\r\u001b[K     |███████▉                        | 317kB 7.6MB/s eta 0:00:01\r\u001b[K     |████████                        | 327kB 7.6MB/s eta 0:00:01\r\u001b[K     |████████▎                       | 337kB 7.6MB/s eta 0:00:01\r\u001b[K     |████████▋                       | 348kB 7.6MB/s eta 0:00:01\r\u001b[K     |████████▉                       | 358kB 7.6MB/s eta 0:00:01\r\u001b[K     |█████████                       | 368kB 7.6MB/s eta 0:00:01\r\u001b[K     |█████████▎                      | 378kB 7.6MB/s eta 0:00:01\r\u001b[K     |█████████▋                      | 389kB 7.6MB/s eta 0:00:01\r\u001b[K     |█████████▉                      | 399kB 7.6MB/s eta 0:00:01\r\u001b[K     |██████████                      | 409kB 7.6MB/s eta 0:00:01\r\u001b[K     |██████████▎                     | 419kB 7.6MB/s eta 0:00:01\r\u001b[K     |██████████▋                     | 430kB 7.6MB/s eta 0:00:01\r\u001b[K     |██████████▉                     | 440kB 7.6MB/s eta 0:00:01\r\u001b[K     |███████████                     | 450kB 7.6MB/s eta 0:00:01\r\u001b[K     |███████████▍                    | 460kB 7.6MB/s eta 0:00:01\r\u001b[K     |███████████▋                    | 471kB 7.6MB/s eta 0:00:01\r\u001b[K     |███████████▉                    | 481kB 7.6MB/s eta 0:00:01\r\u001b[K     |████████████                    | 491kB 7.6MB/s eta 0:00:01\r\u001b[K     |████████████▍                   | 501kB 7.6MB/s eta 0:00:01\r\u001b[K     |████████████▋                   | 512kB 7.6MB/s eta 0:00:01\r\u001b[K     |████████████▉                   | 522kB 7.6MB/s eta 0:00:01\r\u001b[K     |█████████████                   | 532kB 7.6MB/s eta 0:00:01\r\u001b[K     |█████████████▍                  | 542kB 7.6MB/s eta 0:00:01\r\u001b[K     |█████████████▋                  | 552kB 7.6MB/s eta 0:00:01\r\u001b[K     |█████████████▉                  | 563kB 7.6MB/s eta 0:00:01\r\u001b[K     |██████████████                  | 573kB 7.6MB/s eta 0:00:01\r\u001b[K     |██████████████▍                 | 583kB 7.6MB/s eta 0:00:01\r\u001b[K     |██████████████▋                 | 593kB 7.6MB/s eta 0:00:01\r\u001b[K     |██████████████▉                 | 604kB 7.6MB/s eta 0:00:01\r\u001b[K     |███████████████▏                | 614kB 7.6MB/s eta 0:00:01\r\u001b[K     |███████████████▍                | 624kB 7.6MB/s eta 0:00:01\r\u001b[K     |███████████████▋                | 634kB 7.6MB/s eta 0:00:01\r\u001b[K     |███████████████▉                | 645kB 7.6MB/s eta 0:00:01\r\u001b[K     |████████████████▏               | 655kB 7.6MB/s eta 0:00:01\r\u001b[K     |████████████████▍               | 665kB 7.6MB/s eta 0:00:01\r\u001b[K     |████████████████▋               | 675kB 7.6MB/s eta 0:00:01\r\u001b[K     |████████████████▉               | 686kB 7.6MB/s eta 0:00:01\r\u001b[K     |█████████████████▏              | 696kB 7.6MB/s eta 0:00:01\r\u001b[K     |█████████████████▍              | 706kB 7.6MB/s eta 0:00:01\r\u001b[K     |█████████████████▋              | 716kB 7.6MB/s eta 0:00:01\r\u001b[K     |██████████████████              | 727kB 7.6MB/s eta 0:00:01\r\u001b[K     |██████████████████▏             | 737kB 7.6MB/s eta 0:00:01\r\u001b[K     |██████████████████▍             | 747kB 7.6MB/s eta 0:00:01\r\u001b[K     |██████████████████▋             | 757kB 7.6MB/s eta 0:00:01\r\u001b[K     |███████████████████             | 768kB 7.6MB/s eta 0:00:01\r\u001b[K     |███████████████████▏            | 778kB 7.6MB/s eta 0:00:01\r\u001b[K     |███████████████████▍            | 788kB 7.6MB/s eta 0:00:01\r\u001b[K     |███████████████████▋            | 798kB 7.6MB/s eta 0:00:01\r\u001b[K     |████████████████████            | 808kB 7.6MB/s eta 0:00:01\r\u001b[K     |████████████████████▏           | 819kB 7.6MB/s eta 0:00:01\r\u001b[K     |████████████████████▍           | 829kB 7.6MB/s eta 0:00:01\r\u001b[K     |████████████████████▋           | 839kB 7.6MB/s eta 0:00:01\r\u001b[K     |█████████████████████           | 849kB 7.6MB/s eta 0:00:01\r\u001b[K     |█████████████████████▏          | 860kB 7.6MB/s eta 0:00:01\r\u001b[K     |█████████████████████▍          | 870kB 7.6MB/s eta 0:00:01\r\u001b[K     |█████████████████████▊          | 880kB 7.6MB/s eta 0:00:01\r\u001b[K     |██████████████████████          | 890kB 7.6MB/s eta 0:00:01\r\u001b[K     |██████████████████████▏         | 901kB 7.6MB/s eta 0:00:01\r\u001b[K     |██████████████████████▍         | 911kB 7.6MB/s eta 0:00:01\r\u001b[K     |██████████████████████▊         | 921kB 7.6MB/s eta 0:00:01\r\u001b[K     |███████████████████████         | 931kB 7.6MB/s eta 0:00:01\r\u001b[K     |███████████████████████▏        | 942kB 7.6MB/s eta 0:00:01\r\u001b[K     |███████████████████████▍        | 952kB 7.6MB/s eta 0:00:01\r\u001b[K     |███████████████████████▊        | 962kB 7.6MB/s eta 0:00:01\r\u001b[K     |████████████████████████        | 972kB 7.6MB/s eta 0:00:01\r\u001b[K     |████████████████████████▏       | 983kB 7.6MB/s eta 0:00:01\r\u001b[K     |████████████████████████▍       | 993kB 7.6MB/s eta 0:00:01\r\u001b[K     |████████████████████████▊       | 1.0MB 7.6MB/s eta 0:00:01\r\u001b[K     |█████████████████████████       | 1.0MB 7.6MB/s eta 0:00:01\r\u001b[K     |█████████████████████████▏      | 1.0MB 7.6MB/s eta 0:00:01\r\u001b[K     |█████████████████████████▌      | 1.0MB 7.6MB/s eta 0:00:01\r\u001b[K     |█████████████████████████▊      | 1.0MB 7.6MB/s eta 0:00:01\r\u001b[K     |██████████████████████████      | 1.1MB 7.6MB/s eta 0:00:01\r\u001b[K     |██████████████████████████▏     | 1.1MB 7.6MB/s eta 0:00:01\r\u001b[K     |██████████████████████████▌     | 1.1MB 7.6MB/s eta 0:00:01\r\u001b[K     |██████████████████████████▊     | 1.1MB 7.6MB/s eta 0:00:01\r\u001b[K     |███████████████████████████     | 1.1MB 7.6MB/s eta 0:00:01\r\u001b[K     |███████████████████████████▏    | 1.1MB 7.6MB/s eta 0:00:01\r\u001b[K     |███████████████████████████▌    | 1.1MB 7.6MB/s eta 0:00:01\r\u001b[K     |███████████████████████████▊    | 1.1MB 7.6MB/s eta 0:00:01\r\u001b[K     |████████████████████████████    | 1.1MB 7.6MB/s eta 0:00:01\r\u001b[K     |████████████████████████████▏   | 1.1MB 7.6MB/s eta 0:00:01\r\u001b[K     |████████████████████████████▌   | 1.2MB 7.6MB/s eta 0:00:01\r\u001b[K     |████████████████████████████▊   | 1.2MB 7.6MB/s eta 0:00:01\r\u001b[K     |█████████████████████████████   | 1.2MB 7.6MB/s eta 0:00:01\r\u001b[K     |█████████████████████████████▎  | 1.2MB 7.6MB/s eta 0:00:01\r\u001b[K     |█████████████████████████████▌  | 1.2MB 7.6MB/s eta 0:00:01\r\u001b[K     |█████████████████████████████▊  | 1.2MB 7.6MB/s eta 0:00:01\r\u001b[K     |██████████████████████████████  | 1.2MB 7.6MB/s eta 0:00:01\r\u001b[K     |██████████████████████████████▎ | 1.2MB 7.6MB/s eta 0:00:01\r\u001b[K     |██████████████████████████████▌ | 1.2MB 7.6MB/s eta 0:00:01\r\u001b[K     |██████████████████████████████▊ | 1.2MB 7.6MB/s eta 0:00:01\r\u001b[K     |███████████████████████████████ | 1.3MB 7.6MB/s eta 0:00:01\r\u001b[K     |███████████████████████████████▎| 1.3MB 7.6MB/s eta 0:00:01\r\u001b[K     |███████████████████████████████▌| 1.3MB 7.6MB/s eta 0:00:01\r\u001b[K     |███████████████████████████████▊| 1.3MB 7.6MB/s eta 0:00:01\r\u001b[K     |████████████████████████████████| 1.3MB 7.6MB/s eta 0:00:01\r\u001b[K     |████████████████████████████████| 1.3MB 7.6MB/s \n",
            "\u001b[?25hRequirement already satisfied: packaging in /usr/local/lib/python3.6/dist-packages (from transformers==3.5.1) (20.9)\n",
            "Collecting tokenizers==0.9.3\n",
            "\u001b[?25l  Downloading https://files.pythonhosted.org/packages/4c/34/b39eb9994bc3c999270b69c9eea40ecc6f0e97991dba28282b9fd32d44ee/tokenizers-0.9.3-cp36-cp36m-manylinux1_x86_64.whl (2.9MB)\n",
            "\u001b[K     |████████████████████████████████| 2.9MB 27.8MB/s \n",
            "\u001b[?25hRequirement already satisfied: numpy in /usr/local/lib/python3.6/dist-packages (from transformers==3.5.1) (1.19.5)\n",
            "Requirement already satisfied: regex!=2019.12.17 in /usr/local/lib/python3.6/dist-packages (from transformers==3.5.1) (2019.12.20)\n",
            "Collecting sacremoses\n",
            "\u001b[?25l  Downloading https://files.pythonhosted.org/packages/7d/34/09d19aff26edcc8eb2a01bed8e98f13a1537005d31e95233fd48216eed10/sacremoses-0.0.43.tar.gz (883kB)\n",
            "\u001b[K     |████████████████████████████████| 890kB 36.9MB/s \n",
            "\u001b[?25hRequirement already satisfied: filelock in /usr/local/lib/python3.6/dist-packages (from transformers==3.5.1) (3.0.12)\n",
            "Requirement already satisfied: tqdm>=4.27 in /usr/local/lib/python3.6/dist-packages (from transformers==3.5.1) (4.41.1)\n",
            "Collecting sentencepiece==0.1.91\n",
            "\u001b[?25l  Downloading https://files.pythonhosted.org/packages/d4/a4/d0a884c4300004a78cca907a6ff9a5e9fe4f090f5d95ab341c53d28cbc58/sentencepiece-0.1.91-cp36-cp36m-manylinux1_x86_64.whl (1.1MB)\n",
            "\u001b[K     |████████████████████████████████| 1.1MB 46.6MB/s \n",
            "\u001b[?25hRequirement already satisfied: protobuf in /usr/local/lib/python3.6/dist-packages (from transformers==3.5.1) (3.12.4)\n",
            "Requirement already satisfied: requests in /usr/local/lib/python3.6/dist-packages (from transformers==3.5.1) (2.23.0)\n",
            "Requirement already satisfied: dataclasses; python_version < \"3.7\" in /usr/local/lib/python3.6/dist-packages (from transformers==3.5.1) (0.8)\n",
            "Requirement already satisfied: pyparsing>=2.0.2 in /usr/local/lib/python3.6/dist-packages (from packaging->transformers==3.5.1) (2.4.7)\n",
            "Requirement already satisfied: six in /usr/local/lib/python3.6/dist-packages (from sacremoses->transformers==3.5.1) (1.15.0)\n",
            "Requirement already satisfied: click in /usr/local/lib/python3.6/dist-packages (from sacremoses->transformers==3.5.1) (7.1.2)\n",
            "Requirement already satisfied: joblib in /usr/local/lib/python3.6/dist-packages (from sacremoses->transformers==3.5.1) (1.0.0)\n",
            "Requirement already satisfied: setuptools in /usr/local/lib/python3.6/dist-packages (from protobuf->transformers==3.5.1) (53.0.0)\n",
            "Requirement already satisfied: urllib3!=1.25.0,!=1.25.1,<1.26,>=1.21.1 in /usr/local/lib/python3.6/dist-packages (from requests->transformers==3.5.1) (1.24.3)\n",
            "Requirement already satisfied: idna<3,>=2.5 in /usr/local/lib/python3.6/dist-packages (from requests->transformers==3.5.1) (2.10)\n",
            "Requirement already satisfied: certifi>=2017.4.17 in /usr/local/lib/python3.6/dist-packages (from requests->transformers==3.5.1) (2020.12.5)\n",
            "Requirement already satisfied: chardet<4,>=3.0.2 in /usr/local/lib/python3.6/dist-packages (from requests->transformers==3.5.1) (3.0.4)\n",
            "Building wheels for collected packages: sacremoses\n",
            "  Building wheel for sacremoses (setup.py) ... \u001b[?25l\u001b[?25hdone\n",
            "  Created wheel for sacremoses: filename=sacremoses-0.0.43-cp36-none-any.whl size=893261 sha256=50158238ad046b7dc0c839be34af3bbac8a090fcc95d590e30ec13ccb8c043d6\n",
            "  Stored in directory: /root/.cache/pip/wheels/29/3c/fd/7ce5c3f0666dab31a50123635e6fb5e19ceb42ce38d4e58f45\n",
            "Successfully built sacremoses\n",
            "Installing collected packages: tokenizers, sacremoses, sentencepiece, transformers\n",
            "Successfully installed sacremoses-0.0.43 sentencepiece-0.1.91 tokenizers-0.9.3 transformers-3.5.1\n"
          ],
          "name": "stdout"
        }
      ]
    },
    {
      "cell_type": "code",
      "metadata": {
        "id": "YKocKsjB9PPo"
      },
      "source": [
        "import pandas as pd\r\n",
        "import requests\r\n",
        "import io\r\n",
        "import numpy as np \r\n",
        "import matplotlib.pyplot as plt\r\n",
        "import seaborn as sns\r\n",
        "import pandas as pd\r\n",
        "from sklearn.metrics import accuracy_score, classification_report, confusion_matrix\r\n",
        "import torch\r\n",
        "from torchtext.data import Field, TabularDataset, BucketIterator, Iterator\r\n",
        "## PyTorch Transformer\r\n",
        "from transformers import RobertaTokenizer, RobertaModel, AdamW, get_linear_schedule_with_warmup, RobertaConfig\r\n",
        "import warnings\r\n",
        "warnings.filterwarnings('ignore')\r\n",
        "import logging\r\n",
        "logging.getLogger(\"transformers.tokenization_utils_base\").setLevel(logging.ERROR)\r\n",
        "# Downloading the csv file from  GitHub account\r\n",
        "url = \"https://raw.githubusercontent.com/wangcunxiang/SemEval2020-Task4-Commonsense-Validation-and-Explanation/master/ALL%20data/train.csv\" \r\n",
        "download = requests.get(url).content\r\n",
        "\r\n",
        "# Reading the downloaded content and turning it into a pandas dataframe\r\n",
        "\r\n",
        "df = pd.read_csv(io.StringIO(download.decode('utf-8')))"
      ],
      "execution_count": null,
      "outputs": []
    },
    {
      "cell_type": "code",
      "metadata": {
        "colab": {
          "base_uri": "https://localhost:8080/"
        },
        "id": "a2gqwWpWzfeC",
        "outputId": "f269a58b-cda1-4056-dafa-dfebfbaeed5c"
      },
      "source": [
        "from google.colab import drive\n",
        "drive.mount('/content/drive')"
      ],
      "execution_count": null,
      "outputs": [
        {
          "output_type": "stream",
          "text": [
            "Mounted at /content/drive\n"
          ],
          "name": "stdout"
        }
      ]
    },
    {
      "cell_type": "code",
      "metadata": {
        "colab": {
          "base_uri": "https://localhost:8080/",
          "height": 198
        },
        "id": "q8M88xKe9W02",
        "outputId": "dbb302e8-fe78-4ae1-ef0a-df3ded115abc"
      },
      "source": [
        "data_task1 =  df[['Correct Statement','Incorrect Statement']]\r\n",
        "data_task1.head()"
      ],
      "execution_count": null,
      "outputs": [
        {
          "output_type": "execute_result",
          "data": {
            "text/html": [
              "<div>\n",
              "<style scoped>\n",
              "    .dataframe tbody tr th:only-of-type {\n",
              "        vertical-align: middle;\n",
              "    }\n",
              "\n",
              "    .dataframe tbody tr th {\n",
              "        vertical-align: top;\n",
              "    }\n",
              "\n",
              "    .dataframe thead th {\n",
              "        text-align: right;\n",
              "    }\n",
              "</style>\n",
              "<table border=\"1\" class=\"dataframe\">\n",
              "  <thead>\n",
              "    <tr style=\"text-align: right;\">\n",
              "      <th></th>\n",
              "      <th>Correct Statement</th>\n",
              "      <th>Incorrect Statement</th>\n",
              "    </tr>\n",
              "  </thead>\n",
              "  <tbody>\n",
              "    <tr>\n",
              "      <th>0</th>\n",
              "      <td>He poured milk on his cereal.</td>\n",
              "      <td>He poured orange juice on his cereal.</td>\n",
              "    </tr>\n",
              "    <tr>\n",
              "      <th>1</th>\n",
              "      <td>He drinks milk.</td>\n",
              "      <td>He drinks apple.</td>\n",
              "    </tr>\n",
              "    <tr>\n",
              "      <th>2</th>\n",
              "      <td>Jeff ran a mile today</td>\n",
              "      <td>Jeff ran 100,000 miles today</td>\n",
              "    </tr>\n",
              "    <tr>\n",
              "      <th>3</th>\n",
              "      <td>A mosquito stings me</td>\n",
              "      <td>I sting a mosquito</td>\n",
              "    </tr>\n",
              "    <tr>\n",
              "      <th>4</th>\n",
              "      <td>A niece is a person.</td>\n",
              "      <td>A giraffe is a person.</td>\n",
              "    </tr>\n",
              "  </tbody>\n",
              "</table>\n",
              "</div>"
            ],
            "text/plain": [
              "               Correct Statement                    Incorrect Statement\n",
              "0  He poured milk on his cereal.  He poured orange juice on his cereal.\n",
              "1                He drinks milk.                       He drinks apple.\n",
              "2          Jeff ran a mile today           Jeff ran 100,000 miles today\n",
              "3           A mosquito stings me                     I sting a mosquito\n",
              "4           A niece is a person.                 A giraffe is a person."
            ]
          },
          "metadata": {
            "tags": []
          },
          "execution_count": 5
        }
      ]
    },
    {
      "cell_type": "code",
      "metadata": {
        "colab": {
          "base_uri": "https://localhost:8080/",
          "height": 198
        },
        "id": "vNQf277h9bzS",
        "outputId": "87a42c8c-2bed-4c74-9b04-1c1ada4e89e0"
      },
      "source": [
        "data0 = df['Incorrect Statement']\r\n",
        "label0 = [0]*len(data0)\r\n",
        "data1 = df['Correct Statement']\r\n",
        "label1 = [1] * len(data1)\r\n",
        "data = data1.append(data0, ignore_index=True)\r\n",
        "label = label1 + label0\r\n",
        "data = data.values.tolist()\r\n",
        "data = {'statement':data, \r\n",
        "        'label':label} \r\n",
        "  \r\n",
        "# Create DataFrame \r\n",
        "df = pd.DataFrame(data) \r\n",
        "  \r\n",
        "# shuffle. \r\n",
        "df = df.sample(frac = True) \r\n",
        "df.head()"
      ],
      "execution_count": null,
      "outputs": [
        {
          "output_type": "execute_result",
          "data": {
            "text/html": [
              "<div>\n",
              "<style scoped>\n",
              "    .dataframe tbody tr th:only-of-type {\n",
              "        vertical-align: middle;\n",
              "    }\n",
              "\n",
              "    .dataframe tbody tr th {\n",
              "        vertical-align: top;\n",
              "    }\n",
              "\n",
              "    .dataframe thead th {\n",
              "        text-align: right;\n",
              "    }\n",
              "</style>\n",
              "<table border=\"1\" class=\"dataframe\">\n",
              "  <thead>\n",
              "    <tr style=\"text-align: right;\">\n",
              "      <th></th>\n",
              "      <th>statement</th>\n",
              "      <th>label</th>\n",
              "    </tr>\n",
              "  </thead>\n",
              "  <tbody>\n",
              "    <tr>\n",
              "      <th>16216</th>\n",
              "      <td>the students teach the teachers at school</td>\n",
              "      <td>0</td>\n",
              "    </tr>\n",
              "    <tr>\n",
              "      <th>13229</th>\n",
              "      <td>He lives in a pumpkin with his family</td>\n",
              "      <td>0</td>\n",
              "    </tr>\n",
              "    <tr>\n",
              "      <th>9825</th>\n",
              "      <td>People usually roast meat over fire</td>\n",
              "      <td>1</td>\n",
              "    </tr>\n",
              "    <tr>\n",
              "      <th>3037</th>\n",
              "      <td>They filled the bucket with cold water</td>\n",
              "      <td>1</td>\n",
              "    </tr>\n",
              "    <tr>\n",
              "      <th>9629</th>\n",
              "      <td>humans' lifespan has been extended thanks to t...</td>\n",
              "      <td>1</td>\n",
              "    </tr>\n",
              "  </tbody>\n",
              "</table>\n",
              "</div>"
            ],
            "text/plain": [
              "                                               statement  label\n",
              "16216          the students teach the teachers at school      0\n",
              "13229              He lives in a pumpkin with his family      0\n",
              "9825                 People usually roast meat over fire      1\n",
              "3037              They filled the bucket with cold water      1\n",
              "9629   humans' lifespan has been extended thanks to t...      1"
            ]
          },
          "metadata": {
            "tags": []
          },
          "execution_count": 6
        }
      ]
    },
    {
      "cell_type": "code",
      "metadata": {
        "id": "tSdFNi2__uK6"
      },
      "source": [
        "df.to_csv('validation.csv')"
      ],
      "execution_count": null,
      "outputs": []
    },
    {
      "cell_type": "code",
      "metadata": {
        "colab": {
          "base_uri": "https://localhost:8080/"
        },
        "id": "CufC7hisPz_E",
        "outputId": "c09e0c62-057e-4155-b0a9-a88a65f9162c"
      },
      "source": [
        "# Set random seed and set device to GPU.\r\n",
        "torch.manual_seed(17)\r\n",
        "\r\n",
        "if torch.cuda.is_available():\r\n",
        "    device = torch.device('cuda:0')\r\n",
        "    torch.backends.cudnn.deterministic = True\r\n",
        "    torch.backends.cudnn.benchmark = False\r\n",
        "else:\r\n",
        "    device = torch.device('cpu')\r\n",
        "\r\n",
        "print(device)"
      ],
      "execution_count": null,
      "outputs": [
        {
          "output_type": "stream",
          "text": [
            "cuda:0\n"
          ],
          "name": "stdout"
        }
      ]
    },
    {
      "cell_type": "code",
      "metadata": {
        "colab": {
          "base_uri": "https://localhost:8080/",
          "height": 117,
          "referenced_widgets": [
            "ba6c828386c14ad6a9242f6d88f91a3a",
            "660d6756a3064e4082626b9c5aa67145",
            "5c5283524d1e4fe994037ea16a4afc2c",
            "9783f1b8f7134496a8eb0e1998f07795",
            "182f75b02db641b8b1a3e5492f2adeba",
            "df313256c7784cbea1fa90517d6f3d8c",
            "f5636bb6a65b4b0fa20bf6a67a069c9e",
            "0f2b2bf7a1b548ae925a14e3e3832203",
            "17a054104fb1430a9811203bb32e2e58",
            "722f654acd1c4b5899c553c7646ebdd5",
            "3c1b047e40484af984b3299cad6382c1",
            "a963a098d9ef46a3b6f11ba3663e7bf7",
            "b54128433a674d7eb75864a1b9c1d24c",
            "1eeb2454c53e4bf699f8a487b3dd6b6b",
            "64d9433cdcc241e3a0d8f88493203e1e",
            "3172cdec9f6b4b1b8260d25bf8ea3167"
          ]
        },
        "id": "t9AXfEf8_lJZ",
        "outputId": "80a4cc64-497b-4d1a-f445-fd9e83027535"
      },
      "source": [
        "tokenizer = RobertaTokenizer.from_pretrained('roberta-base')"
      ],
      "execution_count": null,
      "outputs": [
        {
          "output_type": "display_data",
          "data": {
            "application/vnd.jupyter.widget-view+json": {
              "model_id": "ba6c828386c14ad6a9242f6d88f91a3a",
              "version_minor": 0,
              "version_major": 2
            },
            "text/plain": [
              "HBox(children=(FloatProgress(value=0.0, description='Downloading', max=898823.0, style=ProgressStyle(descripti…"
            ]
          },
          "metadata": {
            "tags": []
          }
        },
        {
          "output_type": "stream",
          "text": [
            "\n"
          ],
          "name": "stdout"
        },
        {
          "output_type": "display_data",
          "data": {
            "application/vnd.jupyter.widget-view+json": {
              "model_id": "17a054104fb1430a9811203bb32e2e58",
              "version_minor": 0,
              "version_major": 2
            },
            "text/plain": [
              "HBox(children=(FloatProgress(value=0.0, description='Downloading', max=456318.0, style=ProgressStyle(descripti…"
            ]
          },
          "metadata": {
            "tags": []
          }
        },
        {
          "output_type": "stream",
          "text": [
            "\n"
          ],
          "name": "stdout"
        }
      ]
    },
    {
      "cell_type": "code",
      "metadata": {
        "id": "0-addcu8_0nq"
      },
      "source": [
        "# Set tokenizer hyperparameters.\r\n",
        "MAX_SEQ_LEN = 256\r\n",
        "BATCH_SIZE = 16\r\n",
        "PAD_INDEX = tokenizer.convert_tokens_to_ids(tokenizer.pad_token)\r\n",
        "UNK_INDEX = tokenizer.convert_tokens_to_ids(tokenizer.unk_token)\r\n",
        "\r\n",
        "\r\n",
        "# Define columns to read.\r\n",
        "label_field = Field(sequential=False, use_vocab=False, batch_first=True)\r\n",
        "text_field = Field(use_vocab=False, \r\n",
        "                   tokenize=tokenizer.encode, \r\n",
        "                   include_lengths=False, \r\n",
        "                   batch_first=True,\r\n",
        "                   fix_length=MAX_SEQ_LEN, \r\n",
        "                   pad_token=PAD_INDEX, \r\n",
        "                   unk_token=UNK_INDEX)\r\n",
        "\r\n",
        "fields = {'statement' : ('statement', text_field), 'label' : ('label', label_field)}\r\n",
        "\r\n",
        "\r\n",
        "# Read preprocessed CSV into TabularDataset and split it into train, test and valid.\r\n",
        "train_data, valid_data, test_data = TabularDataset(path=\"/content/validation.csv\", \r\n",
        "                                                   format='CSV', \r\n",
        "                                                   fields=fields,skip_header=False).split(split_ratio=[0.70, 0.2, 0.1], \r\n",
        "                                                                            stratified=True, \r\n",
        "                                                                            strata_field='label')\r\n",
        "\r\n",
        "# Create train and validation iterators.\r\n",
        "train_iter, valid_iter = BucketIterator.splits((train_data, valid_data),\r\n",
        "                                               batch_size=BATCH_SIZE,\r\n",
        "                                               device=device,\r\n",
        "                                               shuffle=True,\r\n",
        "                                               sort_key=lambda x: len(x.statement), \r\n",
        "                                               sort=True, \r\n",
        "                                               sort_within_batch=False)\r\n",
        "\r\n",
        "# Test iterator, no shuffling or sorting required.\r\n",
        "test_iter = Iterator(test_data, batch_size=BATCH_SIZE, device=device, train=False, shuffle=False, sort=False)\r\n"
      ],
      "execution_count": null,
      "outputs": []
    },
    {
      "cell_type": "code",
      "metadata": {
        "id": "BdHFZAuk_-Ji"
      },
      "source": [
        "# Model with classifier layers on top of RoBERTa\r\n",
        "class ROBERTAClassifier(torch.nn.Module):\r\n",
        "    def __init__(self, dropout_rate=0.3):\r\n",
        "        super(ROBERTAClassifier, self).__init__()\r\n",
        "        \r\n",
        "        self.roberta = RobertaModel.from_pretrained('roberta-base')\r\n",
        "        self.d1 = torch.nn.Dropout(dropout_rate)\r\n",
        "        self.l1 = torch.nn.Linear(768, 64)\r\n",
        "        self.bn1 = torch.nn.LayerNorm(64)\r\n",
        "        self.d2 = torch.nn.Dropout(dropout_rate)\r\n",
        "        self.l2 = torch.nn.Linear(64, 2)\r\n",
        "        \r\n",
        "    def forward(self, input_ids, attention_mask):\r\n",
        "        _, x = self.roberta(input_ids=input_ids, attention_mask=attention_mask)\r\n",
        "        x = self.d1(x)\r\n",
        "        x = self.l1(x)\r\n",
        "        x = self.bn1(x)\r\n",
        "        x = torch.nn.Tanh()(x)\r\n",
        "        x = self.d2(x)\r\n",
        "        x = self.l2(x)\r\n",
        "        \r\n",
        "        return x "
      ],
      "execution_count": null,
      "outputs": []
    },
    {
      "cell_type": "code",
      "metadata": {
        "id": "HXe3hunlB4nk"
      },
      "source": [
        "def pretrain(model, \r\n",
        "             optimizer, \r\n",
        "             train_iter, \r\n",
        "             valid_iter, \r\n",
        "             scheduler = None,\r\n",
        "             valid_period = len(train_iter),\r\n",
        "             num_epochs = 5):\r\n",
        "    \r\n",
        "    # Pretrain linear layers, do not train bert\r\n",
        "    for param in model.roberta.parameters():\r\n",
        "        param.requires_grad = False\r\n",
        "    \r\n",
        "    model.train()\r\n",
        "    \r\n",
        "    # Initialize losses and loss histories\r\n",
        "    train_loss = 0.0\r\n",
        "    valid_loss = 0.0   \r\n",
        "    global_step = 0  \r\n",
        "    \r\n",
        "    # Train loop\r\n",
        "    for epoch in range(num_epochs):\r\n",
        "        for (source, target), _ in train_iter:\r\n",
        "            mask = (source != PAD_INDEX).type(torch.uint8)\r\n",
        "            \r\n",
        "            y_pred = model(input_ids=source,  \r\n",
        "                           attention_mask=mask)\r\n",
        "            \r\n",
        "            loss = torch.nn.CrossEntropyLoss()(y_pred, target)\r\n",
        "   \r\n",
        "            loss.backward()\r\n",
        "            \r\n",
        "            # Optimizer and scheduler step\r\n",
        "            optimizer.step()    \r\n",
        "            scheduler.step()\r\n",
        "                \r\n",
        "            optimizer.zero_grad()\r\n",
        "            \r\n",
        "            # Update train loss and global step\r\n",
        "            train_loss += loss.item()\r\n",
        "            global_step += 1\r\n",
        "\r\n",
        "            # Validation loop. Save progress and evaluate model performance.\r\n",
        "            if global_step % valid_period == 0:\r\n",
        "                model.eval()\r\n",
        "                \r\n",
        "                with torch.no_grad():                    \r\n",
        "                    for (source, target), _ in valid_iter:\r\n",
        "                        mask = (source != PAD_INDEX).type(torch.uint8)\r\n",
        "                        \r\n",
        "                        y_pred = model(input_ids=source, \r\n",
        "                                       attention_mask=mask)\r\n",
        "                        \r\n",
        "                        loss = torch.nn.CrossEntropyLoss()(y_pred, target)\r\n",
        "                        \r\n",
        "                        valid_loss += loss.item()\r\n",
        "\r\n",
        "                # Store train and validation loss history\r\n",
        "                train_loss = train_loss / valid_period\r\n",
        "                valid_loss = valid_loss / len(valid_iter)\r\n",
        "                \r\n",
        "                model.train()\r\n",
        "\r\n",
        "                # print summary\r\n",
        "                print('Epoch [{}/{}], global step [{}/{}], PT Loss: {:.4f}, Val Loss: {:.4f}'\r\n",
        "                      .format(epoch+1, num_epochs, global_step, num_epochs*len(train_iter),\r\n",
        "                              train_loss, valid_loss))\r\n",
        "                \r\n",
        "                train_loss = 0.0                \r\n",
        "                valid_loss = 0.0\r\n",
        "    \r\n",
        "    # Set bert parameters back to trainable\r\n",
        "    for param in model.roberta.parameters():\r\n",
        "        param.requires_grad = True\r\n",
        "        \r\n",
        "    print('Pre-training done!')"
      ],
      "execution_count": null,
      "outputs": []
    },
    {
      "cell_type": "code",
      "metadata": {
        "id": "XXDJmeDCB8BK"
      },
      "source": [
        "output_path='/content/drive/MyDrive/NLPpoject/models1' "
      ],
      "execution_count": null,
      "outputs": []
    },
    {
      "cell_type": "code",
      "metadata": {
        "id": "7JMZhRjwCGza"
      },
      "source": [
        "def train(model,\r\n",
        "          optimizer,\r\n",
        "          train_iter,\r\n",
        "          valid_iter,\r\n",
        "          scheduler = None,\r\n",
        "          num_epochs = 5,\r\n",
        "          valid_period = len(train_iter),\r\n",
        "          output_path = output_path):\r\n",
        "    \r\n",
        "    # Initialize losses and loss histories\r\n",
        "    train_loss = 0.0\r\n",
        "    valid_loss = 0.0\r\n",
        "    train_loss_list = []\r\n",
        "    valid_loss_list = []\r\n",
        "    best_valid_loss = float('Inf')\r\n",
        "    \r\n",
        "    global_step = 0\r\n",
        "    global_steps_list = []\r\n",
        "    \r\n",
        "    model.train()\r\n",
        "    \r\n",
        "    # Train loop\r\n",
        "    for epoch in range(num_epochs):\r\n",
        "        for (source, target), _ in train_iter:\r\n",
        "            mask = (source != PAD_INDEX).type(torch.uint8)\r\n",
        "\r\n",
        "            y_pred = model(input_ids=source,  \r\n",
        "                           attention_mask=mask)\r\n",
        "            #output = model(input_ids=source,\r\n",
        "            #              labels=target,\r\n",
        "            #              attention_mask=mask)\r\n",
        "            \r\n",
        "            loss = torch.nn.CrossEntropyLoss()(y_pred, target)\r\n",
        "            #loss = output[0]\r\n",
        "            \r\n",
        "            loss.backward()\r\n",
        "            \r\n",
        "            #torch.nn.utils.clip_grad_norm_(model.parameters(), 0.1)\r\n",
        "            \r\n",
        "            # Optimizer and scheduler step\r\n",
        "            optimizer.step()    \r\n",
        "            scheduler.step()\r\n",
        "                \r\n",
        "            optimizer.zero_grad()\r\n",
        "            \r\n",
        "            # Update train loss and global step\r\n",
        "            train_loss += loss.item()\r\n",
        "            global_step += 1\r\n",
        "\r\n",
        "            # Validation loop. Save progress and evaluate model performance.\r\n",
        "            if global_step % valid_period == 0:\r\n",
        "                model.eval()\r\n",
        "                \r\n",
        "                with torch.no_grad():                    \r\n",
        "                    for (source, target), _ in valid_iter:\r\n",
        "                        mask = (source != PAD_INDEX).type(torch.uint8)\r\n",
        "\r\n",
        "                        y_pred = model(input_ids=source, \r\n",
        "                                       attention_mask=mask)\r\n",
        "                        #output = model(input_ids=source,\r\n",
        "                        #               labels=target,\r\n",
        "                        #               attention_mask=mask)\r\n",
        "                        \r\n",
        "                        loss = torch.nn.CrossEntropyLoss()(y_pred, target)\r\n",
        "                        #loss = output[0]\r\n",
        "                        \r\n",
        "                        valid_loss += loss.item()\r\n",
        "\r\n",
        "                # Store train and validation loss history\r\n",
        "                train_loss = train_loss / valid_period\r\n",
        "                valid_loss = valid_loss / len(valid_iter)\r\n",
        "                train_loss_list.append(train_loss)\r\n",
        "                valid_loss_list.append(valid_loss)\r\n",
        "                global_steps_list.append(global_step)\r\n",
        "\r\n",
        "                # print summary\r\n",
        "                print('Epoch [{}/{}], global step [{}/{}], Train Loss: {:.4f}, Valid Loss: {:.4f}'\r\n",
        "                      .format(epoch+1, num_epochs, global_step, num_epochs*len(train_iter),\r\n",
        "                              train_loss, valid_loss))\r\n",
        "                \r\n",
        "                # checkpoint\r\n",
        "                if best_valid_loss > valid_loss:\r\n",
        "                    best_valid_loss = valid_loss\r\n",
        "                    save_checkpoint(output_path + '/model.pkl', model, best_valid_loss)\r\n",
        "                    save_metrics(output_path + '/metric.pkl', train_loss_list, valid_loss_list, global_steps_list)\r\n",
        "                        \r\n",
        "                train_loss = 0.0                \r\n",
        "                valid_loss = 0.0\r\n",
        "                model.train()\r\n",
        "    \r\n",
        "    save_metrics(output_path + '/metric.pkl', train_loss_list, valid_loss_list, global_steps_list)\r\n",
        "    print('Training done!')\r\n"
      ],
      "execution_count": null,
      "outputs": []
    },
    {
      "cell_type": "code",
      "metadata": {
        "id": "P1H-ERkeCL_5"
      },
      "source": [
        "\r\n",
        "# Functions for saving and loading model parameters and metrics.\r\n",
        "def save_checkpoint(path, model, valid_loss):\r\n",
        "    torch.save({'model_state_dict': model.state_dict(),\r\n",
        "                  'valid_loss': valid_loss}, path)\r\n",
        "\r\n",
        "    \r\n",
        "def load_checkpoint(path, model):    \r\n",
        "    state_dict = torch.load(path, map_location=device)\r\n",
        "    model.load_state_dict(state_dict['model_state_dict'])\r\n",
        "    \r\n",
        "    return state_dict['valid_loss']\r\n",
        "\r\n",
        "\r\n",
        "def save_metrics(path, train_loss_list, valid_loss_list, global_steps_list):   \r\n",
        "    state_dict = {'train_loss_list': train_loss_list,\r\n",
        "                  'valid_loss_list': valid_loss_list,\r\n",
        "                  'global_steps_list': global_steps_list}\r\n",
        "    \r\n",
        "    torch.save(state_dict, path)\r\n",
        "\r\n",
        "\r\n",
        "def load_metrics(path):    \r\n",
        "    state_dict = torch.load(path, map_location=device)\r\n",
        "    return state_dict['train_loss_list'], state_dict['valid_loss_list'], state_dict['global_steps_list']"
      ],
      "execution_count": null,
      "outputs": []
    },
    {
      "cell_type": "code",
      "metadata": {
        "colab": {
          "base_uri": "https://localhost:8080/",
          "height": 1000,
          "referenced_widgets": [
            "ca47d35acb5c4dabb0e65ae880f09561",
            "4060ff2768954257a169548bce575b66",
            "df0db457806042ca848e95fc32e78a89",
            "d464a193f769412ab9e57ab4a3820909",
            "45c1c6edd3214f79a7f6577cecdd93db",
            "f08d8b349cd04aebb7c1d7bcc79478ed",
            "59788c14f14848b89a5fca2b65e9c787",
            "5cbb3401e20547209e6ca988731a69c3",
            "0bbc04755d514622bea433180dbc862d",
            "0d42453329db41b581a9ec41e8318708",
            "5d02d7d29bff4e6c9eb0741d49c5c785",
            "1c664125f4984e8bb345edbe383c790c",
            "628970b748fb4c649eb140331e247905",
            "91ea1ed6ba9a4ee7927e5cbb62f58a3c",
            "7e5d9c45a85a497c9b5af5312b162966",
            "9436337d94a6471f8d290714de825ca6"
          ]
        },
        "id": "VLpRd6lBCP0y",
        "outputId": "cd07b3d6-6a3a-41a3-a27c-e09a694d2b82"
      },
      "source": [
        "NUM_EPOCHS = 20\r\n",
        "steps_per_epoch = len(train_iter)\r\n",
        "\r\n",
        "model = ROBERTAClassifier(0.4)\r\n",
        "model = model.to(device)\r\n",
        "\r\n",
        "\r\n",
        "optimizer = AdamW(model.parameters(), lr=1e-4)\r\n",
        "scheduler = get_linear_schedule_with_warmup(optimizer, \r\n",
        "                                            num_warmup_steps=steps_per_epoch*1, \r\n",
        "                                            num_training_steps=steps_per_epoch*NUM_EPOCHS)\r\n",
        "\r\n",
        "print(\"======================= Start pretraining ==============================\")\r\n",
        "\r\n",
        "pretrain(model=model,\r\n",
        "         train_iter=train_iter,\r\n",
        "         valid_iter=valid_iter,\r\n",
        "         optimizer=optimizer,\r\n",
        "         scheduler=scheduler,\r\n",
        "         num_epochs=NUM_EPOCHS)\r\n",
        "\r\n",
        "NUM_EPOCHS = 100\r\n",
        "print(\"======================= Start training =================================\")\r\n",
        "optimizer = AdamW(model.parameters(), lr=2e-6)\r\n",
        "scheduler = get_linear_schedule_with_warmup(optimizer, \r\n",
        "                                            num_warmup_steps=steps_per_epoch*2, \r\n",
        "                                            num_training_steps=steps_per_epoch*NUM_EPOCHS)\r\n",
        "\r\n",
        "train(model=model, \r\n",
        "      train_iter=train_iter, \r\n",
        "      valid_iter=valid_iter, \r\n",
        "      optimizer=optimizer, \r\n",
        "      scheduler=scheduler, \r\n",
        "      num_epochs=NUM_EPOCHS)"
      ],
      "execution_count": null,
      "outputs": [
        {
          "output_type": "display_data",
          "data": {
            "application/vnd.jupyter.widget-view+json": {
              "model_id": "ca47d35acb5c4dabb0e65ae880f09561",
              "version_major": 2,
              "version_minor": 0
            },
            "text/plain": [
              "HBox(children=(FloatProgress(value=0.0, description='Downloading', max=481.0, style=ProgressStyle(description_…"
            ]
          },
          "metadata": {
            "tags": []
          }
        },
        {
          "output_type": "stream",
          "text": [
            "\n"
          ],
          "name": "stdout"
        },
        {
          "output_type": "display_data",
          "data": {
            "application/vnd.jupyter.widget-view+json": {
              "model_id": "0bbc04755d514622bea433180dbc862d",
              "version_major": 2,
              "version_minor": 0
            },
            "text/plain": [
              "HBox(children=(FloatProgress(value=0.0, description='Downloading', max=501200538.0, style=ProgressStyle(descri…"
            ]
          },
          "metadata": {
            "tags": []
          }
        },
        {
          "output_type": "stream",
          "text": [
            "\n",
            "======================= Start pretraining ==============================\n",
            "Epoch [1/20], global step [875/17500], PT Loss: 0.7896, Val Loss: 0.7008\n",
            "Epoch [2/20], global step [1750/17500], PT Loss: 0.7515, Val Loss: 0.6992\n",
            "Epoch [3/20], global step [2625/17500], PT Loss: 0.7295, Val Loss: 0.6975\n",
            "Epoch [4/20], global step [3500/17500], PT Loss: 0.7224, Val Loss: 0.6965\n",
            "Epoch [5/20], global step [4375/17500], PT Loss: 0.7167, Val Loss: 0.6958\n",
            "Epoch [6/20], global step [5250/17500], PT Loss: 0.7113, Val Loss: 0.6951\n",
            "Epoch [7/20], global step [6125/17500], PT Loss: 0.7082, Val Loss: 0.6945\n",
            "Epoch [8/20], global step [7000/17500], PT Loss: 0.7058, Val Loss: 0.6940\n",
            "Epoch [9/20], global step [7875/17500], PT Loss: 0.7028, Val Loss: 0.6938\n",
            "Epoch [10/20], global step [8750/17500], PT Loss: 0.7016, Val Loss: 0.6934\n",
            "Epoch [11/20], global step [9625/17500], PT Loss: 0.7003, Val Loss: 0.6933\n",
            "Epoch [12/20], global step [10500/17500], PT Loss: 0.6986, Val Loss: 0.6932\n",
            "Epoch [13/20], global step [11375/17500], PT Loss: 0.6980, Val Loss: 0.6932\n",
            "Epoch [14/20], global step [12250/17500], PT Loss: 0.6970, Val Loss: 0.6931\n",
            "Epoch [15/20], global step [13125/17500], PT Loss: 0.6959, Val Loss: 0.6931\n",
            "Epoch [16/20], global step [14000/17500], PT Loss: 0.6955, Val Loss: 0.6931\n",
            "Epoch [17/20], global step [14875/17500], PT Loss: 0.6951, Val Loss: 0.6931\n",
            "Epoch [18/20], global step [15750/17500], PT Loss: 0.6947, Val Loss: 0.6931\n",
            "Epoch [19/20], global step [16625/17500], PT Loss: 0.6940, Val Loss: 0.6931\n",
            "Epoch [20/20], global step [17500/17500], PT Loss: 0.6938, Val Loss: 0.6931\n",
            "Pre-training done!\n",
            "======================= Start training =================================\n",
            "Epoch [1/100], global step [875/87500], Train Loss: 0.6934, Valid Loss: 0.6931\n",
            "Epoch [2/100], global step [1750/87500], Train Loss: 0.6941, Valid Loss: 0.6929\n",
            "Epoch [3/100], global step [2625/87500], Train Loss: 0.6939, Valid Loss: 0.6924\n",
            "Epoch [4/100], global step [3500/87500], Train Loss: 0.6931, Valid Loss: 0.6883\n",
            "Epoch [5/100], global step [4375/87500], Train Loss: 0.6939, Valid Loss: 0.6936\n",
            "Epoch [6/100], global step [5250/87500], Train Loss: 0.6968, Valid Loss: 0.6919\n",
            "Epoch [7/100], global step [6125/87500], Train Loss: 0.6919, Valid Loss: 0.6927\n",
            "Epoch [8/100], global step [7000/87500], Train Loss: 0.6947, Valid Loss: 0.6856\n",
            "Epoch [9/100], global step [7875/87500], Train Loss: 0.6845, Valid Loss: 0.6797\n",
            "Epoch [10/100], global step [8750/87500], Train Loss: 0.6613, Valid Loss: 0.6149\n",
            "Epoch [11/100], global step [9625/87500], Train Loss: 0.6388, Valid Loss: 0.6023\n",
            "Epoch [12/100], global step [10500/87500], Train Loss: 0.6213, Valid Loss: 0.5978\n",
            "Epoch [13/100], global step [11375/87500], Train Loss: 0.6102, Valid Loss: 0.5869\n",
            "Epoch [14/100], global step [12250/87500], Train Loss: 0.5962, Valid Loss: 0.5797\n",
            "Epoch [15/100], global step [13125/87500], Train Loss: 0.5857, Valid Loss: 0.5743\n",
            "Epoch [16/100], global step [14000/87500], Train Loss: 0.5745, Valid Loss: 0.5677\n",
            "Epoch [17/100], global step [14875/87500], Train Loss: 0.5663, Valid Loss: 0.5628\n",
            "Epoch [18/100], global step [15750/87500], Train Loss: 0.5576, Valid Loss: 0.5597\n",
            "Epoch [19/100], global step [16625/87500], Train Loss: 0.5450, Valid Loss: 0.5557\n",
            "Epoch [20/100], global step [17500/87500], Train Loss: 0.5343, Valid Loss: 0.5474\n",
            "Epoch [21/100], global step [18375/87500], Train Loss: 0.5250, Valid Loss: 0.5468\n",
            "Epoch [22/100], global step [19250/87500], Train Loss: 0.5116, Valid Loss: 0.5448\n",
            "Epoch [23/100], global step [20125/87500], Train Loss: 0.5068, Valid Loss: 0.5438\n",
            "Epoch [24/100], global step [21000/87500], Train Loss: 0.4945, Valid Loss: 0.5437\n",
            "Epoch [25/100], global step [21875/87500], Train Loss: 0.4864, Valid Loss: 0.5426\n",
            "Epoch [26/100], global step [22750/87500], Train Loss: 0.4738, Valid Loss: 0.5396\n",
            "Epoch [27/100], global step [23625/87500], Train Loss: 0.4661, Valid Loss: 0.5421\n",
            "Epoch [28/100], global step [24500/87500], Train Loss: 0.4661, Valid Loss: 0.5377\n",
            "Epoch [29/100], global step [25375/87500], Train Loss: 0.4500, Valid Loss: 0.5404\n",
            "Epoch [30/100], global step [26250/87500], Train Loss: 0.4388, Valid Loss: 0.5440\n",
            "Epoch [31/100], global step [27125/87500], Train Loss: 0.4314, Valid Loss: 0.5368\n",
            "Epoch [32/100], global step [28000/87500], Train Loss: 0.4188, Valid Loss: 0.5417\n",
            "Epoch [33/100], global step [28875/87500], Train Loss: 0.4093, Valid Loss: 0.5486\n",
            "Epoch [34/100], global step [29750/87500], Train Loss: 0.4044, Valid Loss: 0.5433\n",
            "Epoch [35/100], global step [30625/87500], Train Loss: 0.3884, Valid Loss: 0.5412\n",
            "Epoch [36/100], global step [31500/87500], Train Loss: 0.3844, Valid Loss: 0.5476\n",
            "Epoch [37/100], global step [32375/87500], Train Loss: 0.3823, Valid Loss: 0.5518\n",
            "Epoch [38/100], global step [33250/87500], Train Loss: 0.3707, Valid Loss: 0.5536\n",
            "Epoch [39/100], global step [34125/87500], Train Loss: 0.3669, Valid Loss: 0.5502\n",
            "Epoch [40/100], global step [35000/87500], Train Loss: 0.3553, Valid Loss: 0.5584\n",
            "Epoch [41/100], global step [35875/87500], Train Loss: 0.3470, Valid Loss: 0.5578\n",
            "Epoch [42/100], global step [36750/87500], Train Loss: 0.3363, Valid Loss: 0.5753\n",
            "Epoch [43/100], global step [37625/87500], Train Loss: 0.3336, Valid Loss: 0.5657\n",
            "Epoch [44/100], global step [38500/87500], Train Loss: 0.3261, Valid Loss: 0.5702\n"
          ],
          "name": "stdout"
        }
      ]
    },
    {
      "cell_type": "code",
      "metadata": {
        "colab": {
          "base_uri": "https://localhost:8080/",
          "height": 501
        },
        "id": "oYOdAJq_o9uE",
        "outputId": "a216756c-d4d7-46d3-b26e-5a47ac6df5d0"
      },
      "source": [
        "plt.figure(figsize=(10, 8))\r\n",
        "train_loss_list, valid_loss_list, global_steps_list = load_metrics(output_path + '/metric.pkl')\r\n",
        "plt.plot(global_steps_list, train_loss_list, label='Train')\r\n",
        "plt.plot(global_steps_list, valid_loss_list, label='Valid')\r\n",
        "plt.xlabel('Global Steps', fontsize=14)\r\n",
        "plt.ylabel('Loss', fontsize=14)\r\n",
        "plt.legend(fontsize=14)\r\n",
        "plt.show()"
      ],
      "execution_count": null,
      "outputs": [
        {
          "output_type": "display_data",
          "data": {
            "image/png": "[encoded data removed]",
            "text/plain": [
              "<Figure size 720x576 with 1 Axes>"
            ]
          },
          "metadata": {
            "tags": [],
            "needs_background": "light"
          }
        }
      ]
    },
    {
      "cell_type": "code",
      "metadata": {
        "id": "UjJMbNn0pRJh"
      },
      "source": [
        "def evaluate(model, test_loader):\r\n",
        "    y_pred = []\r\n",
        "    y_true = []\r\n",
        "\r\n",
        "    model.eval()\r\n",
        "    with torch.no_grad():\r\n",
        "        for (source, target), _ in test_loader:\r\n",
        "                mask = (source != PAD_INDEX).type(torch.uint8)\r\n",
        "                \r\n",
        "                output = model(source, attention_mask=mask)\r\n",
        "\r\n",
        "                y_pred.extend(torch.argmax(output, axis=-1).tolist())\r\n",
        "                y_true.extend(target.tolist())\r\n",
        "    \r\n",
        "    print('Classification Report:')\r\n",
        "    print(classification_report(y_true, y_pred, labels=[1,0], digits=4))\r\n",
        "    \r\n",
        "    cm = confusion_matrix(y_true, y_pred, labels=[1,0])\r\n",
        "    ax = plt.subplot()\r\n",
        "\r\n",
        "    sns.heatmap(cm, annot=True, ax = ax, cmap='Blues', fmt=\"d\")\r\n",
        "\r\n",
        "    ax.set_title('Confusion Matrix')\r\n",
        "\r\n",
        "    ax.set_xlabel('Predicted Labels')\r\n",
        "    ax.set_ylabel('True Labels')\r\n",
        "\r\n",
        "    ax.xaxis.set_ticklabels(['FAKE', 'REAL'])\r\n",
        "    ax.yaxis.set_ticklabels(['FAKE', 'REAL'])"
      ],
      "execution_count": null,
      "outputs": []
    },
    {
      "cell_type": "code",
      "metadata": {
        "colab": {
          "base_uri": "https://localhost:8080/",
          "height": 135,
          "referenced_widgets": [
            "c677e76ea4354c29856af3955fa47047",
            "548fd5a47f3c4cf1aa15c1b2bdfae2b8",
            "baf9d27621304d829d4c65833603c5d3",
            "02e2133977d14953bdf7b42a720a21d1",
            "3d202bf3d98a49e3b590b1ef3f120ae3",
            "98698dfee8b547eaa03c98dbe5d34a4c",
            "686f37a96dc44eae9115ea24de966ede",
            "f46a6467425b40379fe98b74a6b68d0f",
            "70070789da9d483196296167fdba94b0",
            "e1830fdba02546eaa13e3c073eb2e9ca",
            "24f088311b60419bb1d32acbbe706641",
            "6f2ed9e31cc74dd38a3ef9ae2e952408",
            "5fc23a67f96f48fdb7a9353b53fd59b3",
            "833d0dc0b313458bb2bbb41a2013ec68",
            "fe0996cc6a2d4765b008aa7b4517e5ff",
            "01fe319e8c0d46cb8ea9fa1953f2c837"
          ]
        },
        "id": "n0SRZSVppYfh",
        "outputId": "e9435c97-9361-45a9-9b07-0b2042da53a8"
      },
      "source": [
        "model = ROBERTAClassifier()\r\n",
        "model = model.to(device)\r\n",
        "\r\n",
        "load_checkpoint(output_path + '/model.pkl', model)\r\n",
        "\r\n"
      ],
      "execution_count": null,
      "outputs": [
        {
          "output_type": "display_data",
          "data": {
            "application/vnd.jupyter.widget-view+json": {
              "model_id": "c677e76ea4354c29856af3955fa47047",
              "version_minor": 0,
              "version_major": 2
            },
            "text/plain": [
              "HBox(children=(FloatProgress(value=0.0, description='Downloading', max=481.0, style=ProgressStyle(description_…"
            ]
          },
          "metadata": {
            "tags": []
          }
        },
        {
          "output_type": "stream",
          "text": [
            "\n"
          ],
          "name": "stdout"
        },
        {
          "output_type": "display_data",
          "data": {
            "application/vnd.jupyter.widget-view+json": {
              "model_id": "70070789da9d483196296167fdba94b0",
              "version_minor": 0,
              "version_major": 2
            },
            "text/plain": [
              "HBox(children=(FloatProgress(value=0.0, description='Downloading', max=501200538.0, style=ProgressStyle(descri…"
            ]
          },
          "metadata": {
            "tags": []
          }
        },
        {
          "output_type": "stream",
          "text": [
            "\n"
          ],
          "name": "stdout"
        },
        {
          "output_type": "execute_result",
          "data": {
            "text/plain": [
              "0.5367613734006882"
            ]
          },
          "metadata": {
            "tags": []
          },
          "execution_count": 15
        }
      ]
    },
    {
      "cell_type": "code",
      "metadata": {
        "colab": {
          "base_uri": "https://localhost:8080/",
          "height": 476
        },
        "id": "t9qpTUmKDbey",
        "outputId": "f06280f1-721c-42b5-b121-45ee61bc5479"
      },
      "source": [
        "evaluate(model, test_iter)"
      ],
      "execution_count": null,
      "outputs": [
        {
          "output_type": "stream",
          "text": [
            "Classification Report:\n",
            "              precision    recall  f1-score   support\n",
            "\n",
            "           1     0.8400    0.8320    0.8360      2000\n",
            "           0     0.8336    0.8415    0.8375      2000\n",
            "\n",
            "    accuracy                         0.8367      4000\n",
            "   macro avg     0.8368    0.8367    0.8367      4000\n",
            "weighted avg     0.8368    0.8367    0.8367      4000\n",
            "\n"
          ],
          "name": "stdout"
        },
        {
          "output_type": "display_data",
          "data": {
            "image/png": "[encoded data removed]",
            "text/plain": [
              "<Figure size 432x288 with 2 Axes>"
            ]
          },
          "metadata": {
            "tags": [],
            "needs_background": "light"
          }
        }
      ]
    },
    {
      "cell_type": "markdown",
      "metadata": {
        "id": "vttU37Ni1cEt"
      },
      "source": [
        "----\r\n",
        "\r\n",
        "Test sur des Exemples : \r\n",
        "\r\n",
        "----"
      ]
    },
    {
      "cell_type": "code",
      "metadata": {
        "id": "azQB3luvzySa"
      },
      "source": [
        "statement = [\"my sister eats a stone after breakfast every day\"]\r\n",
        "statement = list(map(text_field.preprocess, statement))\r\n",
        "statement = text_field.pad(statement)\r\n",
        "statement = torch.as_tensor(statement)\r\n",
        "mask = (statement != PAD_INDEX).type(torch.uint8)"
      ],
      "execution_count": null,
      "outputs": []
    },
    {
      "cell_type": "code",
      "metadata": {
        "id": "yaKuMtRX5cYI"
      },
      "source": [
        "y_pred = model(statement, attention_mask=mask)"
      ],
      "execution_count": null,
      "outputs": []
    },
    {
      "cell_type": "code",
      "metadata": {
        "colab": {
          "base_uri": "https://localhost:8080/"
        },
        "id": "mJKdfzk43tu_",
        "outputId": "0da1b1b1-6d67-46dc-850c-b4dd0580e19b"
      },
      "source": [
        "pred = torch.argmax(y_pred, axis=-1).tolist()\r\n",
        "if pred == [1] :\r\n",
        "  print('the statement is correct')\r\n",
        "else :\r\n",
        "  print('the statement is incorrect')"
      ],
      "execution_count": null,
      "outputs": [
        {
          "output_type": "stream",
          "text": [
            "the statement is incorrect\n"
          ],
          "name": "stdout"
        }
      ]
    }
  ]
}